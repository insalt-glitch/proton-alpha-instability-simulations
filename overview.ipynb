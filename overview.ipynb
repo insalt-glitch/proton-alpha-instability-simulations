{
 "cells": [
  {
   "cell_type": "code",
   "execution_count": null,
   "metadata": {},
   "outputs": [],
   "source": [
    "%load_ext autoreload\n",
    "%autoreload 2\n",
    "import math\n",
    "from pathlib import Path\n",
    "\n",
    "import h5py\n",
    "import numpy as np\n",
    "from scipy import constants, signal, stats, optimize\n",
    "import matplotlib\n",
    "import matplotlib.animation as animation\n",
    "import matplotlib.pyplot as plt\n",
    "from mpl_toolkits.axes_grid1 import make_axes_locatable\n",
    "from cycler import cycler\n",
    "\n",
    "import analysis\n",
    "from basic.paths import (\n",
    "    RESULTS_FOLDER,\n",
    "    PARTICLE_VARIATION_FOLDER,\n",
    "    DENSITY_VARIATION_FOLDER,\n",
    "    V_FLOW_VARIATION_FOLDER,\n",
    "    FOLDER_1D,\n",
    "    FOLDER_2D,\n",
    "    MPLSTYLE_FILE\n",
    ")\n",
    "from basic import (\n",
    "    physics,\n",
    "    Species,\n",
    "    SpeciesInfo,\n",
    "    RunInfo,\n",
    "    Distribution\n",
    ")\n",
    "\n",
    "from plots import (\n",
    "    settings,\n",
    "    plots_1D,\n",
    "    plots_2D,\n",
    "    general,\n",
    ")\n",
    "\n",
    "info = RunInfo(\n",
    "    electron=SpeciesInfo(\n",
    "        number_density=12.0e6,\n",
    "        temperature=100.0,\n",
    "        charge=-1,\n",
    "        mass=1.0,\n",
    "        bulk_velocity=0.0\n",
    "    ),\n",
    "    proton=SpeciesInfo(\n",
    "        number_density=10.0e6,\n",
    "        temperature=3.0,\n",
    "        charge=+1,\n",
    "        mass=1836.152674,\n",
    "        bulk_velocity=0.0\n",
    "    ),\n",
    "    alpha=SpeciesInfo(\n",
    "        number_density=1.0e6,\n",
    "        temperature=12.0,\n",
    "        charge=+2,\n",
    "        mass=7294.29953,\n",
    "        bulk_velocity=1.0e5\n",
    "    )\n",
    ")\n",
    "\n",
    "save=False\n",
    "plt.style.use(MPLSTYLE_FILE)\n",
    "matplotlib.rcParams['figure.dpi'] = 100"
   ]
  },
  {
   "cell_type": "markdown",
   "metadata": {},
   "source": [
    "# Simulation 2D"
   ]
  },
  {
   "cell_type": "markdown",
   "metadata": {},
   "source": [
    "## Alpha flow-speed variation (B=0)"
   ]
  },
  {
   "cell_type": "code",
   "execution_count": null,
   "metadata": {},
   "outputs": [],
   "source": [
    "plots_2D.maxEnergyVsAlphaFlowSpeed(info, normalize_energy=False)\n",
    "plt.show()\n",
    "plots_2D.maxEnergyVsAlphaFlowSpeed(info, normalize_energy=True)\n",
    "plt.show()"
   ]
  },
  {
   "cell_type": "code",
   "execution_count": null,
   "metadata": {},
   "outputs": [],
   "source": [
    "plots_2D.waveAngleVsAlphaFlowSpeed(info, \"x\")\n",
    "plots_2D.simulatedAlphaFlowSpeed(info, \"x\")\n",
    "plt.show()"
   ]
  },
  {
   "cell_type": "markdown",
   "metadata": {},
   "source": [
    "TODO: |k| vs u-alpha"
   ]
  },
  {
   "cell_type": "code",
   "execution_count": null,
   "metadata": {},
   "outputs": [],
   "source": [
    "plots_2D.omegaVsAlphaFlowSpeed(info, \"x\")\n",
    "plots_2D.omegaVsAlphaFlowSpeed(info, \"y\")\n",
    "plt.show()"
   ]
  },
  {
   "cell_type": "code",
   "execution_count": null,
   "metadata": {},
   "outputs": [],
   "source": [
    "plots_2D.psdOmegaForAlphaFlowSpeed(info, \"x\")\n",
    "plots_2D.psdOmegaForAlphaFlowSpeed(info, \"y\")\n",
    "plt.show()"
   ]
  },
  {
   "cell_type": "code",
   "execution_count": null,
   "metadata": {},
   "outputs": [],
   "source": [
    "species = Species.ELECTRON\n",
    "plt.style.use(MPLSTYLE_FILE)\n",
    "plt.figure()\n",
    "for filename in sorted(V_FLOW_VARIATION_FOLDER.glob(\"*.h5\")):\n",
    "    v = int(filename.stem[-3:])\n",
    "    if v not in [100, 140]:\n",
    "        continue\n",
    "    with h5py.File(filename) as f:\n",
    "        time = f[\"Header/time\"][:] * info.omega_pp\n",
    "        temp = np.mean(f[f\"Derived/Temperature/{species.value}\"], axis=(1,2))\n",
    "    plt.plot(\n",
    "        time, physics.kelvinToElectronVolt(temp),\n",
    "        label=f\"$u_\\\\alpha^{{t=0}}$ = {v}\"\n",
    "    )\n",
    "\n",
    "for filename in sorted((FOLDER_2D / \"v_alpha_bulk_variation_By\").glob(\"*.h5\")):\n",
    "    v = int(filename.stem[-3:])\n",
    "\n",
    "    with h5py.File(filename) as f:\n",
    "        time = f[\"Header/time\"][:] * info.omega_pp\n",
    "        temp = np.mean(f[f\"Derived/Temperature/{species.value}\"], axis=(1,2))\n",
    "    plt.plot(\n",
    "        time, physics.kelvinToElectronVolt(temp),\n",
    "        label=f\"($B_y>0$) $u_\\\\alpha^{{t=0}}$ = {v}\"\n",
    "    )\n",
    "\n",
    "for filename in sorted((FOLDER_2D / \"v_alpha_bulk_variation_Bx_By\").glob(\"*.h5\")):\n",
    "    v = int(filename.stem[-3:])\n",
    "\n",
    "    with h5py.File(filename) as f:\n",
    "        time = f[\"Header/time\"][:] * info.omega_pp\n",
    "        temp = np.mean(f[f\"Derived/Temperature/{species.value}\"], axis=(1,2))\n",
    "    plt.plot(\n",
    "        time, physics.kelvinToElectronVolt(temp),\n",
    "        label=f\"($B_x=B_y$) $u_\\\\alpha^{{t=0}}$ = {v}\"\n",
    "    )\n",
    "for filename in sorted((FOLDER_2D / \"v_alpha_bulk_variation_Bx\").glob(\"*.h5\")):\n",
    "    v = int(filename.stem[-3:])\n",
    "\n",
    "    with h5py.File(filename) as f:\n",
    "        time = f[\"Header/time\"][:] * info.omega_pp\n",
    "        temp = np.mean(f[f\"Derived/Temperature/{species.value}\"], axis=(1,2))\n",
    "    plt.plot(\n",
    "        time, physics.kelvinToElectronVolt(temp),\n",
    "        label=f\"($B_x>0$) $u_\\\\alpha^{{t=0}}$ = {v}\"\n",
    "    )\n",
    "plt.legend(title=\"Flow velocity (km$\\\\,/\\\\,$s)\")\n",
    "plt.xlabel(\"Time $t\\\\,\\\\omega_{pp}$ (1)\")\n",
    "plt.ylabel(f\"Temperature $T_{species.symbol()}$ (eV)\")\n",
    "plt.xlim(0, 150.0)"
   ]
  },
  {
   "cell_type": "code",
   "execution_count": null,
   "metadata": {},
   "outputs": [],
   "source": [
    "for species in Species:\n",
    "    plots_2D.temperature3DOverTimeForAlphaFlowSpeed(\n",
    "        info, species\n",
    "    )"
   ]
  },
  {
   "cell_type": "code",
   "execution_count": null,
   "metadata": {},
   "outputs": [],
   "source": [
    "for species in Species:\n",
    "    plots_2D.temperatureDifferences3DVsAlphaFlowSpeed(info, species)\n",
    "plt.show()"
   ]
  },
  {
   "cell_type": "code",
   "execution_count": null,
   "metadata": {},
   "outputs": [],
   "source": [
    "for filename in sorted(V_FLOW_VARIATION_FOLDER.glob(\"*.h5\")):\n",
    "    plots_2D.electricField2DSnapshot(filename, info, time=50.0)\n",
    "    plt.show()"
   ]
  },
  {
   "cell_type": "code",
   "execution_count": null,
   "metadata": {},
   "outputs": [],
   "source": [
    "for filename in sorted((FOLDER_2D / \"v_alpha_bulk_variation_By\").glob(\"*.h5\")):\n",
    "    plots_2D.electricField2DSnapshot(filename, info, time=50.0)\n",
    "    plt.show()"
   ]
  },
  {
   "cell_type": "code",
   "execution_count": null,
   "metadata": {},
   "outputs": [],
   "source": [
    "files = sorted((FOLDER_2D / \"v_alpha_bulk_variation_Bx_By\").glob(\"*.h5\"))\n",
    "arr_theta = np.empty(len(files))\n",
    "arr_theta_err = np.empty(len(files))\n",
    "arr_theta_E = np.empty(len(files))\n",
    "arr_theta_E_err = np.empty(len(files))\n",
    "flow_velocity = np.empty(len(files))\n",
    "for file_idx, filename in enumerate(files):\n",
    "    flow_velocity[file_idx] = int(filename.stem[-3:])\n",
    "    with h5py.File(filename) as f:\n",
    "        x = f[\"Grid/x_px/Alphas/X\"][0] / info.lambda_D\n",
    "        y = f[\"Grid/y_px/Alphas/Y\"][0] / info.lambda_D\n",
    "        E_x = f['Electric Field/ex'][:]\n",
    "        E_y = f['Electric Field/ey'][:]\n",
    "        time = f[\"Header/time\"][:] * info.omega_pp\n",
    "\n",
    "        print(f.keys())\n",
    "        break\n",
    "    res = analysis.fitGrowthRate(time, np.mean(E_x ** 2 + E_y ** 2, axis=(1,2)))\n",
    "    assert res is not None, \"What?\"\n",
    "    linear_idx = res[1]\n",
    "    E_field = E_x[slice(*linear_idx)]\n",
    "    k, k_err = analysis.waveVector2D(x, y, E_field)\n",
    "    print(k, k_err)\n",
    "    print(f\"v = {flow_velocity[file_idx]} :: |k| = {np.linalg.norm(k):.4f}\")\n",
    "    arr_theta[file_idx], arr_theta_err[file_idx] = analysis.waveAngle2DFromWaveVector(k, k_err)\n",
    "\n",
    "print(arr_theta * 180 / np.pi)"
   ]
  },
  {
   "cell_type": "code",
   "execution_count": null,
   "metadata": {},
   "outputs": [],
   "source": [
    "for filename in sorted((FOLDER_2D / \"v_alpha_bulk_variation_Bx_By\").glob(\"*.h5\")):\n",
    "    plots_2D.energyEFieldOverTime(filename, info)\n",
    "    plt.show()"
   ]
  },
  {
   "cell_type": "code",
   "execution_count": null,
   "metadata": {},
   "outputs": [],
   "source": [
    "for filename in sorted(V_FLOW_VARIATION_FOLDER.glob(\"*.h5\")):\n",
    "    plots_2D.strengthBFieldOverTime(filename, info)\n",
    "    plots_2D.psdBField(filename, info)\n",
    "    plots_2D.energyBField(filename, info)\n",
    "    plt.show()"
   ]
  },
  {
   "cell_type": "code",
   "execution_count": null,
   "metadata": {},
   "outputs": [],
   "source": [
    "for species in [Species.ELECTRON]:\n",
    "    plots_2D.psdFlowVelocity(info, species, \"x\", \"x\")\n",
    "    plt.show()"
   ]
  },
  {
   "cell_type": "code",
   "execution_count": null,
   "metadata": {},
   "outputs": [],
   "source": [
    "for species in Species:\n",
    "    plots_2D.flowVelocityVsTime(info, species, \"x\", \"x\")\n",
    "    plt.show()"
   ]
  },
  {
   "cell_type": "code",
   "execution_count": null,
   "metadata": {},
   "outputs": [],
   "source": [
    "for filename in sorted(V_FLOW_VARIATION_FOLDER.glob(\"*.h5\")):\n",
    "    plots_2D.energiesOverTime(filename, info)\n",
    "    plt.show()"
   ]
  },
  {
   "cell_type": "code",
   "execution_count": null,
   "metadata": {},
   "outputs": [],
   "source": [
    "# Kinetic energies in the system\n",
    "for filename in sorted(V_FLOW_VARIATION_FOLDER.glob(\"*.h5\")):\n",
    "    plt.figure()\n",
    "    K_species = []\n",
    "    for species in [Species.ALPHA]:\n",
    "        u_alpha = int(filename.stem[-3:])\n",
    "        with h5py.File(filename) as f:\n",
    "            time = f[\"Header/time\"][:] * info.omega_pp\n",
    "            x_grid = f[f\"Grid/grid/X\"][:]\n",
    "            y_grid = f[f\"Grid/grid/Y\"][:]\n",
    "            px_grid = f[f\"Grid/px_py/{species.value}/Px\"][:]\n",
    "            py_grid = f[f\"Grid/px_py/{species.value}/Py\"][:]\n",
    "            px_py = f[f'dist_fn/px_py/{species.value}'][:]\n",
    "        # TODO: Wrong\n",
    "        u_x, u_y = analysis.flowVelocity2D(x_grid, y_grid, px_grid, py_grid, px_py, info[species])\n",
    "        print(np.sum(u_x, axis=1))\n",
    "        K = 0.5 * info[species].si_mass * np.mean(u_x ** 2 + u_y ** 2, axis=1) / constants.electron_volt\n",
    "        K_species.append(info[species].number_density * K)\n",
    "    for K_s, species in zip(K_species, Species):\n",
    "        plt.plot(time, K_s * 1e-6, label=f\"$W_{{{species.symbol()}}}$\")\n",
    "    # plt.plot(time[1:], W_total[1:] * 1e-6, label=\"$W_\\\\text{total}$\")\n",
    "    plt.yscale(\"log\")\n",
    "    plt.xlabel(\"Time $t\\\\,\\\\omega_{pp}$ (1)\")\n",
    "    plt.ylabel(\"Kinetic energy density K (MeV$\\\\,/\\\\,$m$^3$)\")\n",
    "    plt.xlim(0.0, 150.0)\n",
    "    plt.legend(ncols=3, labelspacing=.2, columnspacing=0.5)\n",
    "    plt.show()"
   ]
  },
  {
   "cell_type": "code",
   "execution_count": null,
   "metadata": {},
   "outputs": [],
   "source": [
    "species = Species.PROTON\n",
    "files = sorted(V_FLOW_VARIATION_FOLDER.glob(\"*.h5\"))\n",
    "labels = [int(p.stem[-3:]) for p in files]\n",
    "general.momentumDistributionComparison(\n",
    "    info, species, Distribution.Y_PX, legend_ncols=2,\n",
    "    files=files, labels=labels, times=150.0, legend_title=f\"Flow velocity $u_\\\\alpha$ (km/s)\")\n",
    "plt.show()"
   ]
  },
  {
   "cell_type": "code",
   "execution_count": null,
   "metadata": {},
   "outputs": [],
   "source": [
    "# TODO: Test with (FOLDER_2D / \"v_alpha_bulk_variation_Bx_By\") (varying momentum limits)\n",
    "times = [0.0, 40.0, 50, 60.0, 150.0]\n",
    "species = Species.PROTON\n",
    "for filename in sorted(V_FLOW_VARIATION_FOLDER.glob(\"*.h5\")):\n",
    "    general.momentumDistributionComparison(info, species, Distribution.Y_PX, filename, times)\n",
    "plt.show()"
   ]
  },
  {
   "cell_type": "code",
   "execution_count": null,
   "metadata": {},
   "outputs": [],
   "source": [
    "species = Species.ALPHA\n",
    "dist = Distribution.X_PX\n",
    "for filename in sorted(V_FLOW_VARIATION_FOLDER.glob(\"*.h5\")):\n",
    "    general.spaceMomentumDistributon(info, species, dist, filename, time=50.0)\n",
    "    plt.show()"
   ]
  },
  {
   "cell_type": "code",
   "execution_count": null,
   "metadata": {},
   "outputs": [],
   "source": [
    "species = Species.PROTON\n",
    "time = 150.0\n",
    "for filename in sorted(V_FLOW_VARIATION_FOLDER.glob(\"*.h5\")):\n",
    "    plots_2D.pxPyDistribution(info, species, filename, time)\n",
    "    plt.show()"
   ]
  },
  {
   "cell_type": "code",
   "execution_count": null,
   "metadata": {},
   "outputs": [],
   "source": [
    "filename = sorted(V_FLOW_VARIATION_FOLDER.glob(\"*.h5\"))[2]\n",
    "plots_2D.videoEFieldOverTime(info, filename, \"x\", save=True)"
   ]
  },
  {
   "cell_type": "code",
   "execution_count": null,
   "metadata": {},
   "outputs": [],
   "source": [
    "filenames = sorted(V_FLOW_VARIATION_FOLDER.glob(\"*.h5\"))\n",
    "species = Species.PROTON\n",
    "normalized_velocity = True\n",
    "time_steps = range(0, 1500, 20)\n",
    "labels = [int(p.stem[-3:]) for p in filenames]\n",
    "legend_title=f\"Flow velocity $u_\\\\alpha$ (km/s)\"\n",
    "general.videoMomentumDistribution(\n",
    "    info, Distribution.X_PX, species, filenames,\n",
    "    save=True, labels=labels, legend_title=legend_title,\n",
    "    legend_ncols=2)"
   ]
  },
  {
   "cell_type": "code",
   "execution_count": null,
   "metadata": {},
   "outputs": [],
   "source": [
    "filename = RESULTS_FOLDER / \"epoch_2D/v_alpha_bulk_variation/v_alpha_bulk_106.h5\"\n",
    "plots_2D.videoPxPyDistribution(info, species=Species.PROTON, filename=filename)"
   ]
  },
  {
   "cell_type": "code",
   "execution_count": null,
   "metadata": {},
   "outputs": [],
   "source": [
    "filename = RESULTS_FOLDER / \"epoch_2D/v_alpha_bulk_variation/v_alpha_bulk_106.h5\"\n",
    "v_x, v_y, f_v = general._loadPxPyDistribution(info, Species.PROTON, filename, 100, True)\n",
    "f_v[f_v<=0] = np.min(f_v[f_v>0])\n",
    "from scipy import ndimage\n",
    "plt.contourf(np.log(ndimage.gaussian_filter(f_v, sigma=10)))\n",
    "plt.gca().set_aspect(\"equal\")"
   ]
  },
  {
   "cell_type": "markdown",
   "metadata": {},
   "source": [
    "# Simulation 1D"
   ]
  },
  {
   "cell_type": "markdown",
   "metadata": {},
   "source": [
    "## Density variation"
   ]
  },
  {
   "cell_type": "code",
   "execution_count": null,
   "metadata": {},
   "outputs": [],
   "source": [
    "for filename in sorted(DENSITY_VARIATION_FOLDER.glob(\"density_*.h5\")):\n",
    "    print(filename)\n",
    "    ratio = 10 ** float(filename.stem.split(\"_\")[-1])\n",
    "    n_electron = 12e6\n",
    "    n_proton = n_electron / (1 + 2 * ratio)\n",
    "    n_alpha = ratio * n_proton\n",
    "    info = RunInfo(\n",
    "        electron=SpeciesInfo(\n",
    "            number_density=12.0e6,\n",
    "            temperature=100.0,\n",
    "            charge=-1,\n",
    "            mass=1.0,\n",
    "            bulk_velocity=0.0\n",
    "        ),\n",
    "        proton=SpeciesInfo(\n",
    "            number_density=n_proton,\n",
    "            temperature=3.0,\n",
    "            charge=+1,\n",
    "            mass=1836.152674,\n",
    "            bulk_velocity=0.0\n",
    "        ),\n",
    "        alpha=SpeciesInfo(\n",
    "            number_density=n_alpha,\n",
    "            temperature=12.0,\n",
    "            charge=+2,\n",
    "            mass=7294.29953,\n",
    "            bulk_velocity=1.0e5\n",
    "        )\n",
    "    )\n",
    "    plots_1D.energyEFieldOverTime(\n",
    "        filename=filename, info=info\n",
    "    )\n",
    "    plt.show()"
   ]
  },
  {
   "cell_type": "markdown",
   "metadata": {},
   "source": [
    "## Run n=8192"
   ]
  },
  {
   "cell_type": "code",
   "execution_count": null,
   "metadata": {},
   "outputs": [],
   "source": [
    "plots_1D.electricFieldOverSpaceAndTime(\n",
    "    filename=FOLDER_1D / \"proton-alpha-instability-1D.h5\",\n",
    "    info=info, save=False\n",
    ")\n",
    "plt.show()"
   ]
  },
  {
   "cell_type": "code",
   "execution_count": null,
   "metadata": {},
   "outputs": [],
   "source": [
    "plots_1D.averageTemperature3DOverTime(\n",
    "    filename=FOLDER_1D / \"proton-alpha-instability-1D.h5\",\n",
    "    info=info, save=save\n",
    ")\n",
    "plt.show()"
   ]
  },
  {
   "cell_type": "code",
   "execution_count": null,
   "metadata": {},
   "outputs": [],
   "source": [
    "for s in Species:\n",
    "    plots_1D.velocityDistributionOverTime(\n",
    "        filename=PARTICLE_VARIATION_FOLDER / \"particles_4192/rep_0.h5\", #FOLDER_1D / \"proton-alpha-instability-1D.h5\",\n",
    "        info=info, species=s, save=save\n",
    "    )\n",
    "plt.show()"
   ]
  },
  {
   "cell_type": "code",
   "execution_count": null,
   "metadata": {},
   "outputs": [],
   "source": [
    "plots_1D.energyEFieldOverTime(\n",
    "    filename=FOLDER_1D / \"proton-alpha-instability-1D.h5\",\n",
    "    info=info, save=save\n",
    ")\n",
    "plt.show()"
   ]
  },
  {
   "cell_type": "markdown",
   "metadata": {},
   "source": [
    "## Particle variation"
   ]
  },
  {
   "cell_type": "code",
   "execution_count": null,
   "metadata": {},
   "outputs": [],
   "source": [
    "variation_folder = PARTICLE_VARIATION_FOLDER\n",
    "for particle_folder in sorted(variation_folder.glob(\"particles_*\")):\n",
    "    plots_1D.multiElectricFieldEnergyOverTime(\n",
    "        particle_folder, info, save=save,\n",
    "        identifer=f\"particles_per_cell_{int(particle_folder.stem[-4:])}\"\n",
    "    )"
   ]
  },
  {
   "cell_type": "code",
   "execution_count": null,
   "metadata": {},
   "outputs": [],
   "source": [
    "plots_1D.particleVariationEnergyVsTime(info=info, save=save)\n",
    "plt.show()"
   ]
  },
  {
   "cell_type": "code",
   "execution_count": null,
   "metadata": {},
   "outputs": [],
   "source": [
    "plots_1D.particleVariationGrowthRate(info, save=save)\n",
    "plt.show()"
   ]
  },
  {
   "cell_type": "code",
   "execution_count": null,
   "metadata": {},
   "outputs": [],
   "source": [
    "for species in Species:\n",
    "    plots_1D.particleVariationTemperature3D(species, save=save)\n",
    "plt.show()"
   ]
  },
  {
   "cell_type": "code",
   "execution_count": null,
   "metadata": {},
   "outputs": [],
   "source": [
    "for species in Species:\n",
    "    plots_1D.particleVariationTemperatureXDiff(info, species, save=save)\n",
    "plt.show()"
   ]
  },
  {
   "cell_type": "code",
   "execution_count": null,
   "metadata": {},
   "outputs": [],
   "source": [
    "for species in Species:\n",
    "    plots_1D.particleVariationTemperatureXVsTime(info, species, save=save)\n",
    "plt.show()"
   ]
  },
  {
   "cell_type": "code",
   "execution_count": null,
   "metadata": {},
   "outputs": [],
   "source": [
    "plots_1D.particleVariationWavenumber(info=info, save=save)\n",
    "plt.show()"
   ]
  },
  {
   "cell_type": "code",
   "execution_count": null,
   "metadata": {},
   "outputs": [],
   "source": [
    "plots_1D.particleVariationFrequency(info=info, save=False)\n",
    "plt.show()"
   ]
  }
 ],
 "metadata": {
  "kernelspec": {
   "display_name": "analysis",
   "language": "python",
   "name": "python3"
  },
  "language_info": {
   "codemirror_mode": {
    "name": "ipython",
    "version": 3
   },
   "file_extension": ".py",
   "mimetype": "text/x-python",
   "name": "python",
   "nbconvert_exporter": "python",
   "pygments_lexer": "ipython3",
   "version": "3.13.2"
  }
 },
 "nbformat": 4,
 "nbformat_minor": 2
}
