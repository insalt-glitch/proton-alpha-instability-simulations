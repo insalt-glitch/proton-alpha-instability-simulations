{
 "cells": [
  {
   "cell_type": "code",
   "execution_count": null,
   "metadata": {},
   "outputs": [],
   "source": [
    "%load_ext autoreload\n",
    "%autoreload 2\n",
    "import math\n",
    "from pathlib import Path\n",
    "\n",
    "import h5py\n",
    "import numpy as np\n",
    "from scipy import constants, signal, stats, optimize\n",
    "import matplotlib\n",
    "import matplotlib.animation as animation\n",
    "import matplotlib.pyplot as plt\n",
    "from mpl_toolkits.axes_grid1 import make_axes_locatable\n",
    "from cycler import cycler\n",
    "\n",
    "import analysis\n",
    "from basic.paths import (\n",
    "    RESULTS_FOLDER,\n",
    "    PARTICLE_VARIATION_FOLDER,\n",
    "    DENSITY_VARIATION_FOLDER,\n",
    "    V_FLOW_VARIATION_FOLDER,\n",
    "    FOLDER_1D,\n",
    "    FOLDER_2D,\n",
    "    MPLSTYLE_FILE\n",
    ")\n",
    "from basic import (\n",
    "    physics,\n",
    "    Species,\n",
    "    SpeciesInfo,\n",
    "    RunInfo,\n",
    "    Distribution\n",
    ")\n",
    "\n",
    "from plots import (\n",
    "    settings,\n",
    "    plots_1D,\n",
    "    plots_2D,\n",
    "    general,\n",
    ")\n",
    "\n",
    "info = RunInfo(\n",
    "    electron=SpeciesInfo(\n",
    "        number_density=12.0e6,\n",
    "        temperature=100.0,\n",
    "        charge=-1,\n",
    "        mass=1.0,\n",
    "        bulk_velocity=0.0\n",
    "    ),\n",
    "    proton=SpeciesInfo(\n",
    "        number_density=10.0e6,\n",
    "        temperature=3.0,\n",
    "        charge=+1,\n",
    "        mass=1836.152674,\n",
    "        bulk_velocity=0.0\n",
    "    ),\n",
    "    alpha=SpeciesInfo(\n",
    "        number_density=1.0e6,\n",
    "        temperature=12.0,\n",
    "        charge=+2,\n",
    "        mass=7294.29953,\n",
    "        bulk_velocity=1.0e5\n",
    "    )\n",
    ")\n",
    "\n",
    "save=True\n",
    "plt.style.use(MPLSTYLE_FILE)\n",
    "matplotlib.rcParams['figure.dpi'] = 100"
   ]
  },
  {
   "cell_type": "code",
   "execution_count": null,
   "metadata": {},
   "outputs": [],
   "source": [
    "# visualization of distribution overlap with interaction region\n",
    "from ipywidgets import interactive\n",
    "import matplotlib.pyplot as plt\n",
    "import numpy as np\n",
    "\n",
    "def interactive_plot(u_alpha):\n",
    "    width = 40\n",
    "    c_s = info.c_s * 1e-3\n",
    "    if u_alpha < c_s:\n",
    "        theta = 0\n",
    "    else:\n",
    "        theta = np.arccos(c_s / u_alpha)\n",
    "\n",
    "    t = np.linspace(0, c_s)\n",
    "    s = np.linspace(-5 * c_s, 5 * c_s)\n",
    "    plt.figure()\n",
    "    # plt.text(0, 0, f\"{u_alpha} {theta}\")\n",
    "    circle = plt.Circle((0,0), radius=c_s, fill=False, ls=\"--\", lw=2)\n",
    "    plt.plot(np.cos(theta) * t, np.sin(theta) * t, ls=\"solid\")\n",
    "    plt.plot(np.cos(theta) * t, -np.sin(theta) * t, ls=\"solid\")\n",
    "    plt.plot(c_s * np.cos(theta) + np.sin(theta) * s, c_s * np.sin(theta) - np.cos(theta) * s)\n",
    "    plt.plot(c_s * np.cos(theta) + np.sin(theta) * s, -c_s * np.sin(theta) + np.cos(theta) * s)\n",
    "    rect_pos = plt.Rectangle(\n",
    "        xy=(\n",
    "            (c_s - width / 2) * np.cos(theta) + np.sin(theta) * (-2 * c_s),\n",
    "            (c_s - width / 2) * np.sin(theta) - np.cos(theta) * (-2 * c_s)\n",
    "        ),\n",
    "        width=1000, height=width, angle=theta * 180 / np.pi+270, alpha=0.4, edgecolor=\"black\"\n",
    "    )\n",
    "    rect_neg = plt.Rectangle(\n",
    "        xy=(\n",
    "            +(c_s + width / 2) * np.cos(theta) + np.sin(theta) * (-2 * c_s),\n",
    "            -(c_s + width / 2) * np.sin(theta) + np.cos(theta) * (-2 * c_s)\n",
    "        ),\n",
    "        width=1000, height=width, angle=-theta * 180 / np.pi+90, alpha=0.4, edgecolor=\"black\"\n",
    "    )\n",
    "    plt.scatter(u_alpha, 0, s=40,zorder=5)\n",
    "    plt.gca().add_patch(circle)\n",
    "    plt.gca().add_patch(rect_pos)\n",
    "    plt.gca().add_patch(rect_neg)\n",
    "    plt.gca().set_aspect(\"equal\")\n",
    "    plt.xlim(-110, u_alpha+width)\n",
    "    plt.ylim(-110, 110)\n",
    "    plt.xlabel(\"Velocity $v_{\\\\alpha,x}$ (km/s)\")\n",
    "    plt.ylabel(\"Velocity $v_{\\\\alpha,y}$ (km/s)\")\n",
    "    plt.show()\n",
    "\n",
    "interactive_plt = interactive(interactive_plot, u_alpha=(100.0, 200.0))\n",
    "interactive_plt"
   ]
  },
  {
   "cell_type": "code",
   "execution_count": null,
   "metadata": {},
   "outputs": [],
   "source": [
    "magnetic_field_strength = 4.346348316425957e-06# 45e-9\n",
    "omega_c_alpha = magnetic_field_strength * info.alpha.si_charge / info.alpha.si_mass\n",
    "omega_c_proton = magnetic_field_strength * info.proton.si_charge / info.proton.si_mass\n",
    "print(f\"B = {magnetic_field_strength * 1e4}\")\n",
    "print(info.omega_pp / omega_c_alpha)\n",
    "print(info.omega_pp / omega_c_proton)\n",
    "print(info.omega_pp / (10 * info.proton.si_charge / info.proton.si_mass))"
   ]
  },
  {
   "cell_type": "code",
   "execution_count": null,
   "metadata": {},
   "outputs": [],
   "source": [
    "magnetic_field_strength / np.sqrt(2)"
   ]
  },
  {
   "cell_type": "code",
   "execution_count": null,
   "metadata": {},
   "outputs": [],
   "source": [
    "1 / (magnetic_field_strength / np.sqrt(2)) ** 2 /(1 / (magnetic_field_strength) ** 2 )"
   ]
  },
  {
   "cell_type": "code",
   "execution_count": null,
   "metadata": {},
   "outputs": [],
   "source": [
    "from scipy import special, integrate\n",
    "def distr_integral(u_alpha, w, m, T):\n",
    "    c_s = info.c_s\n",
    "    k = constants.k\n",
    "    if u_alpha < c_s:\n",
    "        theta = 0\n",
    "    else:\n",
    "        theta = np.arccos(c_s / u_alpha)\n",
    "    if theta < 1e-15:\n",
    "        integral_band = special.erf(w * np.sqrt(m / (8 * k * T)))\n",
    "        return integral_band\n",
    "    f_geom = w / np.sin(theta)\n",
    "    e_geom = w / np.cos(theta)\n",
    "\n",
    "    integral_band = special.erf(w * np.sqrt(m / (8 * k * T)))\n",
    "    integral_triangle, _ = integrate.quad(\n",
    "        func=lambda v_x: np.exp(- m * v_x ** 2 / (2 * k * T)) * \\\n",
    "        special.erf((f_geom * (e_geom - 2 * v_x)) / (np.sqrt(8 * k * T / m) * e_geom)) / \\\n",
    "        np.sqrt(8 * np.pi * k * T / m),\n",
    "        a=0, b=e_geom / 2\n",
    "    )\n",
    "    return 2 * integral_band - 4 * integral_triangle\n",
    "wave_length = 0.5 * 2 * np.pi * info.lambda_D / 0.7\n",
    "interaction_width = np.sqrt(\n",
    "    2 * constants.elementary_charge * 0.8 * wave_length / info.proton.si_mass\n",
    ")\n",
    "x = np.linspace(1e5, 2e5, num=1000)\n",
    "y = np.array([\n",
    "    distr_integral(u_alpha, w=interaction_width, m=info.alpha.si_mass, T=info.alpha.si_temperature) for u_alpha in x\n",
    "])\n",
    "plt.plot(x * 1e-3, y)\n",
    "plt.xlabel(\"Initial flow velocity $u_\\\\alpha$ (km$\\\\,/\\\\,$s)\")\n",
    "plt.show()"
   ]
  },
  {
   "cell_type": "markdown",
   "metadata": {},
   "source": [
    "# Simulation 2D"
   ]
  },
  {
   "cell_type": "code",
   "execution_count": null,
   "metadata": {},
   "outputs": [],
   "source": [
    "# plot max-e-field energy\n",
    "# TODO: Change markers & colors, perhaps change the format completely so that there is more space for the different markers (in that case focus on 100 and 140 km/s)\n",
    "plt.style.use(MPLSTYLE_FILE)\n",
    "plt.figure()\n",
    "for files, label, marker in zip([\n",
    "        sorted(V_FLOW_VARIATION_FOLDER.glob(\"*.h5\")),\n",
    "        sorted((FOLDER_2D / \"v_alpha_bulk_variation_Bx\").glob(\"*.h5\")),\n",
    "        sorted((FOLDER_2D / \"v_alpha_bulk_variation_By\").glob(\"*.h5\")),\n",
    "        sorted((FOLDER_2D / \"v_alpha_bulk_variation_Bz\").glob(\"*.h5\")),\n",
    "        sorted((FOLDER_2D / \"v_alpha_bulk_variation_Bx_By\").glob(\"*.h5\")),\n",
    "    ], [\"B=0\", \"B_x>0\", \"B_y>0\", \"B_z>0\", \"B_x=B_y\"], settings.MARKERS):\n",
    "    velocity = np.empty(len(files))\n",
    "    W_E_max = np.empty(len(files))\n",
    "    W_E_max_err = np.empty(len(files))\n",
    "    for file_idx, filename in enumerate(files):\n",
    "        velocity[file_idx] = int(filename.stem[-3:])\n",
    "        with h5py.File(filename) as f:\n",
    "            E_x = f['Electric Field/ex'][:]\n",
    "            E_y = f['Electric Field/ey'][:]\n",
    "        W_E = np.mean(E_x ** 2 + E_y ** 2, axis=(1,2)) * (constants.epsilon_0 / 2) / constants.electron_volt\n",
    "        max_idx = np.argmax(W_E)\n",
    "        max_range = W_E[max_idx-5:max_idx+5]\n",
    "        W_E_max[file_idx] = np.mean(max_range)\n",
    "        W_E_max_err[file_idx] = np.std(max_range)\n",
    "    velocity = np.array(velocity)\n",
    "    W_E_max = np.array(W_E_max)\n",
    "    W_E_max_err = np.array(W_E_max_err)\n",
    "    if True:\n",
    "        K_alpha_t0 = (info.alpha.si_mass * info.alpha.number_density * (velocity * 1e3) ** 2 / (2 * constants.electron_volt))\n",
    "        W_E_max /= K_alpha_t0\n",
    "        W_E_max_err /= K_alpha_t0\n",
    "\n",
    "    plt.errorbar(\n",
    "        velocity, W_E_max, yerr=W_E_max_err, label=f\"${label}$\", # color=\"black\",\n",
    "        marker=marker, markeredgecolor=\"black\", markeredgewidth=1, markersize=10, ls=\"\")\n",
    "    y_min, y_max = plt.gca().get_ylim()\n",
    "plt.fill_between(\n",
    "    [0.0, info.c_s * 1e-3], y1=y_min, y2=y_max,\n",
    "    lw=2, color=\"lightgray\", label=\"$u_{\\\\alpha} \\\\leq c_s$\"\n",
    ")\n",
    "plt.xlabel(\"Initial flow velocity $u_{\\\\alpha}^{t=0}$ (km/s)\")\n",
    "if True:\n",
    "    plt.ylabel(\"$\\\\max[\\\\langle W_E\\\\rangle_\\\\mathbf{r}]_t/K_\\\\alpha^{t=0}$  (1)\")\n",
    "else:\n",
    "    plt.ylabel(\"$\\\\max[\\\\langle W_E\\\\rangle_\\\\mathbf{r}]_t$  (MeV$\\\\,/\\\\,$m$^3$)\")\n",
    "plt.xlim(90, 190)\n",
    "plt.ylim(y_min, y_max)\n",
    "plt.legend(fancybox=False, edgecolor=\"black\")\n",
    "plt.tight_layout()\n",
    "# plt.savefig(\"figures/svg/simulation-2D/magnetic-field-directions/max_electric_field_energy-vs-flow-velocity.svg\", bbox_inches=\"tight\")\n",
    "plt.show()"
   ]
  },
  {
   "cell_type": "markdown",
   "metadata": {},
   "source": [
    "## Alpha flow-speed variation (B=0)"
   ]
  },
  {
   "cell_type": "code",
   "execution_count": null,
   "metadata": {},
   "outputs": [],
   "source": [
    "plots_2D.maxEnergyVsAlphaFlowSpeed(info, normalize_energy=False)\n",
    "plt.show()\n",
    "plots_2D.maxEnergyVsAlphaFlowSpeed(info, normalize_energy=True, save=save)\n",
    "plt.show()"
   ]
  },
  {
   "cell_type": "code",
   "execution_count": null,
   "metadata": {},
   "outputs": [],
   "source": [
    "plots_2D.waveAngleVsAlphaFlowSpeed(info, \"x\", save=save)\n",
    "plots_2D.simulatedAlphaFlowSpeed(info, \"x\", save=save)\n",
    "plt.show()"
   ]
  },
  {
   "cell_type": "markdown",
   "metadata": {},
   "source": [
    "TODO: |k| vs u-alpha"
   ]
  },
  {
   "cell_type": "code",
   "execution_count": null,
   "metadata": {},
   "outputs": [],
   "source": [
    "plots_2D.omegaVsAlphaFlowSpeed(info, \"x\", save=save)\n",
    "plots_2D.omegaVsAlphaFlowSpeed(info, \"y\", save=save)\n",
    "plt.show()"
   ]
  },
  {
   "cell_type": "code",
   "execution_count": null,
   "metadata": {},
   "outputs": [],
   "source": [
    "plots_2D.psdOmegaForAlphaFlowSpeed(info, \"x\", save=save)\n",
    "plots_2D.psdOmegaForAlphaFlowSpeed(info, \"y\", save=save)\n",
    "plt.show()"
   ]
  },
  {
   "cell_type": "code",
   "execution_count": null,
   "metadata": {},
   "outputs": [],
   "source": [
    "import theory\n",
    "dr = np.logspace(-3, 1)\n",
    "plt.plot(dr, theory.growthRate(dr), label=\"$\\\\gamma\\\\,/\\\\,\\\\omega_{pp}$\")\n",
    "plt.plot(dr, theory.waveFrequency(dr), label=\"$\\\\omega\\\\,/\\\\,\\\\omega_{pp}$\")\n",
    "plt.plot(dr, theory.waveNumber(dr, info), label=\"$k\\\\,\\\\lambda_D$\")\n",
    "plt.xscale(\"log\")\n",
    "plt.xlim(1e-3, 1e1)\n",
    "plt.xlabel(\"Density ratio $n_\\\\alpha\\\\,/\\\\,n_{p}$ (1)\")\n",
    "plt.ylabel(\"Ratio (1)\")\n",
    "plt.legend()\n",
    "plt.show()"
   ]
  },
  {
   "cell_type": "code",
   "execution_count": null,
   "metadata": {},
   "outputs": [],
   "source": [
    "# plot 3D temperature vs time for different magnetic fields.\n",
    "species = Species.PROTON\n",
    "plt.style.use(MPLSTYLE_FILE)\n",
    "plt.figure()\n",
    "\n",
    "leg_u100 = []\n",
    "leg_u140 = []\n",
    "for u_label in [100, 140]:\n",
    "    for folder_id, label in zip([\"\", \"_Bx\", \"_By\", \"_Bz\", \"_Bx_By\"], [\"B=0\", \"B_x>0\", \"B_y>0\", \"B_z>0\", \"B_x=B_y\"]):\n",
    "        for filename in sorted((FOLDER_2D / f\"v_alpha_bulk_variation{folder_id}\").glob(\"*.h5\")):\n",
    "            u = int(filename.stem[-3:])\n",
    "            if u != u_label:\n",
    "                continue\n",
    "            with h5py.File(filename) as f:\n",
    "                time = f[\"Header/time\"][:] * info.omega_pp\n",
    "                temp = np.mean(f[f\"Derived/Temperature/{species.value}\"], axis=(1,2))\n",
    "            line = plt.plot(\n",
    "                time, physics.kelvinToElectronVolt(temp),\n",
    "                # label=f\"(${label}$) $u_\\\\alpha^{{t=0}}$ = {v}\"\n",
    "                label=f\"${label}$\"\n",
    "            )[0]\n",
    "            (leg_u100 if u_label == 100 else leg_u140).append(line)\n",
    "leg1 = plt.legend(handles=leg_u100, loc=\"upper left\", title=\"$u_\\\\alpha^{t=0}$=100 km/s\",ncols=1 if species == Species.ELECTRON else 2, columnspacing=0.5, labelspacing=0.5, fancybox=False, framealpha=0.4)\n",
    "plt.legend(handles=leg_u140, title=\"$u_\\\\alpha^{t=0}$=140 km/s\", loc=\"lower right\", ncols=3 if species == Species.ELECTRON else 2, columnspacing=0.5, labelspacing=0.5, fancybox=False, framealpha=0.4)\n",
    "plt.gca().add_artist(leg1)\n",
    "plt.xlabel(\"Time $t\\\\,\\\\omega_{pp}$ (1)\")\n",
    "plt.ylabel(f\"Temperature $T_{species.symbol()}$ (eV)\")\n",
    "plt.xlim(0, 150.0)\n",
    "y_low = 1.5 if species == Species.PROTON else 5\n",
    "plt.ylim(bottom=2 if species == Species.PROTON else 10 if species == Species.ALPHA else 99.7)\n",
    "plt.tight_layout(pad=0.2)\n",
    "plt.savefig(f\"figures/svg/simulation-2D/magnetic-field-directions/temperature_{species}-vs-time.svg\", bbox_inches=\"tight\")\n",
    "plt.show()"
   ]
  },
  {
   "cell_type": "code",
   "execution_count": null,
   "metadata": {},
   "outputs": [],
   "source": [
    "for species in Species:\n",
    "    plots_2D.temperature3DOverTimeForAlphaFlowSpeed(\n",
    "        info, species\n",
    "    )"
   ]
  },
  {
   "cell_type": "code",
   "execution_count": null,
   "metadata": {},
   "outputs": [],
   "source": [
    "for species in Species:\n",
    "    plots_2D.temperatureDifferences3DVsAlphaFlowSpeed(info, species, save=save)\n",
    "plt.show()"
   ]
  },
  {
   "cell_type": "code",
   "execution_count": null,
   "metadata": {},
   "outputs": [],
   "source": [
    "for filename in sorted(V_FLOW_VARIATION_FOLDER.glob(\"*.h5\")):\n",
    "    plots_2D.electricField2DSnapshot(filename, info, time=50.0)\n",
    "    plt.show()"
   ]
  },
  {
   "cell_type": "code",
   "execution_count": null,
   "metadata": {},
   "outputs": [],
   "source": [
    "for filename in sorted((FOLDER_2D / \"v_alpha_bulk_variation_By\").glob(\"*.h5\")):\n",
    "    plots_2D.electricField2DSnapshot(filename, info, time=50.0)\n",
    "    plt.show()"
   ]
  },
  {
   "cell_type": "code",
   "execution_count": null,
   "metadata": {},
   "outputs": [],
   "source": [
    "files = sorted((FOLDER_2D / \"v_alpha_bulk_variation_Bx_By\").glob(\"*.h5\"))\n",
    "arr_theta = np.empty(len(files))\n",
    "arr_theta_err = np.empty(len(files))\n",
    "arr_theta_E = np.empty(len(files))\n",
    "arr_theta_E_err = np.empty(len(files))\n",
    "flow_velocity = np.empty(len(files))\n",
    "for file_idx, filename in enumerate(files):\n",
    "    flow_velocity[file_idx] = int(filename.stem[-3:])\n",
    "    with h5py.File(filename) as f:\n",
    "        x = f[\"Grid/x_px/Alphas/X\"][0] / info.lambda_D\n",
    "        y = f[\"Grid/y_px/Alphas/Y\"][0] / info.lambda_D\n",
    "        E_x = f['Electric Field/ex'][:]\n",
    "        E_y = f['Electric Field/ey'][:]\n",
    "        time = f[\"Header/time\"][:] * info.omega_pp\n",
    "\n",
    "    res = analysis.fitGrowthRate(time, np.mean(E_x ** 2 + E_y ** 2, axis=(1,2)))\n",
    "    assert res is not None, \"What?\"\n",
    "    linear_idx = res[1]\n",
    "    E_field = E_x[slice(*linear_idx)]\n",
    "    k, k_err = analysis.waveVector2D(x, y, E_field)\n",
    "    print(k, k_err)\n",
    "    print(f\"v = {flow_velocity[file_idx]} :: |k| = {np.linalg.norm(k):.4f}\")\n",
    "    arr_theta[file_idx], arr_theta_err[file_idx] = analysis.waveAngle2DFromWaveVector(k, k_err)\n",
    "\n",
    "print(arr_theta * 180 / np.pi)"
   ]
  },
  {
   "cell_type": "code",
   "execution_count": null,
   "metadata": {},
   "outputs": [],
   "source": [
    "for filename in sorted((FOLDER_2D / \"v_alpha_bulk_variation_Bx_By\").glob(\"*.h5\")):\n",
    "    plots_2D.energyEFieldOverTime(filename, info)\n",
    "    plt.show()"
   ]
  },
  {
   "cell_type": "code",
   "execution_count": null,
   "metadata": {},
   "outputs": [],
   "source": [
    "for filename in sorted(V_FLOW_VARIATION_FOLDER.glob(\"*.h5\")):\n",
    "    plots_2D.strengthBFieldOverTime(filename, info)\n",
    "    plots_2D.psdBField(filename, info)\n",
    "    plots_2D.energyBField(filename, info)\n",
    "    plt.show()"
   ]
  },
  {
   "cell_type": "code",
   "execution_count": null,
   "metadata": {},
   "outputs": [],
   "source": [
    "for species in [Species.ELECTRON]:\n",
    "    plots_2D.psdFlowVelocity(info, species, \"x\", \"x\")\n",
    "    plt.show()"
   ]
  },
  {
   "cell_type": "code",
   "execution_count": null,
   "metadata": {},
   "outputs": [],
   "source": [
    "for species in Species:\n",
    "    plots_2D.flowVelocityVsTime(info, species, \"x\", \"x\")\n",
    "    plt.show()"
   ]
  },
  {
   "cell_type": "code",
   "execution_count": null,
   "metadata": {},
   "outputs": [],
   "source": [
    "for filename in sorted(V_FLOW_VARIATION_FOLDER.glob(\"*.h5\")):\n",
    "    plots_2D.energiesOverTime(filename, info)\n",
    "    plt.show()"
   ]
  },
  {
   "cell_type": "code",
   "execution_count": null,
   "metadata": {},
   "outputs": [],
   "source": [
    "for filename in sorted(V_FLOW_VARIATION_FOLDER.glob(\"*.h5\")):\n",
    "    plt.figure()\n",
    "    K_species = []\n",
    "    for species in Species:\n",
    "        u_alpha = int(filename.stem[-3:])\n",
    "        with h5py.File(filename) as f:\n",
    "            time = f[\"Header/time\"][:] * info.omega_pp\n",
    "            x_grid = f[f\"Grid/grid/X\"][:]\n",
    "            y_grid = f[f\"Grid/grid/Y\"][:]\n",
    "            px_grid = f[f\"Grid/px_py/{species.value}/Px\"][:]\n",
    "            py_grid = f[f\"Grid/px_py/{species.value}/Py\"][:]\n",
    "            px_py = f[f'dist_fn/px_py/{species.value}'][:]\n",
    "            print(f[f\"Derived/Temperature/{species}\"].keys())\n",
    "        # TODO: Wrong\n",
    "        u_x, u_y = analysis.flowVelocity2D(x_grid, y_grid, px_grid, py_grid, px_py, info[species])\n",
    "        K = 0.5 * info[species].si_mass * (u_x ** 2 + u_y ** 2) / constants.electron_volt\n"
   ]
  },
  {
   "cell_type": "code",
   "execution_count": null,
   "metadata": {},
   "outputs": [],
   "source": [
    "# Kinetic energies in the system\n",
    "for filename in sorted(V_FLOW_VARIATION_FOLDER.glob(\"*.h5\")):\n",
    "    plt.figure()\n",
    "    K_species = []\n",
    "    for species in Species:\n",
    "        u_alpha = int(filename.stem[-3:])\n",
    "        with h5py.File(filename) as f:\n",
    "            time = f[\"Header/time\"][:] * info.omega_pp\n",
    "            x_grid = f[f\"Grid/grid/X\"][:]\n",
    "            y_grid = f[f\"Grid/grid/Y\"][:]\n",
    "            px_grid = f[f\"Grid/px_py/{species.value}/Px\"][:]\n",
    "            py_grid = f[f\"Grid/px_py/{species.value}/Py\"][:]\n",
    "            px_py = f[f'dist_fn/px_py/{species.value}'][:]\n",
    "        # TODO: Wrong\n",
    "        u_x, u_y = analysis.flowVelocity2D(x_grid, y_grid, px_grid, py_grid, px_py, info[species])\n",
    "        K = 0.5 * info[species].si_mass * (u_x ** 2 + u_y ** 2) / constants.electron_volt\n",
    "        K_species.append(info[species].number_density * K)\n",
    "    for K_s, species in zip(K_species, Species):\n",
    "        plt.plot(time, K_s * 1e-6, label=f\"$W_{{{species.symbol()}}}$\")\n",
    "    # plt.plot(time[1:], W_total[1:] * 1e-6, label=\"$W_\\\\text{total}$\")\n",
    "    plt.yscale(\"log\")\n",
    "    plt.xlabel(\"Time $t\\\\,\\\\omega_{pp}$ (1)\")\n",
    "    plt.ylabel(\"Kinetic energy density K (MeV$\\\\,/\\\\,$m$^3$)\")\n",
    "    plt.xlim(0.0, 150.0)\n",
    "    plt.legend(ncols=3, labelspacing=.2, columnspacing=0.5)\n",
    "    plt.show()\n",
    "    break"
   ]
  },
  {
   "cell_type": "code",
   "execution_count": null,
   "metadata": {},
   "outputs": [],
   "source": [
    "species = Species.PROTON\n",
    "files = sorted(V_FLOW_VARIATION_FOLDER.glob(\"*.h5\"))\n",
    "labels = [int(p.stem[-3:]) for p in files]\n",
    "general.momentumDistributionComparison(\n",
    "    info, species, Distribution.X_PX, legend_ncols=2,\n",
    "    files=files, labels=labels, times=150.0, legend_title=f\"Flow velocity $u_\\\\alpha$ (km/s)\")\n",
    "plt.show()"
   ]
  },
  {
   "cell_type": "code",
   "execution_count": null,
   "metadata": {},
   "outputs": [],
   "source": [
    "# TODO: Test with (FOLDER_2D / \"v_alpha_bulk_variation_Bx_By\") (varying momentum limits)\n",
    "times = [0.0, 40.0, 50, 60.0, 150.0]\n",
    "species = Species.PROTON\n",
    "for filename in sorted((FOLDER_2D / \"v_alpha_bulk_variation_Bx\").glob(\"*.h5\")):\n",
    "    general.momentumDistributionComparison(info, species, Distribution.Y_PX, filename, times)\n",
    "    break\n",
    "plt.show()"
   ]
  },
  {
   "cell_type": "code",
   "execution_count": null,
   "metadata": {},
   "outputs": [],
   "source": [
    "species = Species.ALPHA\n",
    "dist = Distribution.X_PX\n",
    "for filename in sorted(V_FLOW_VARIATION_FOLDER.glob(\"*.h5\")):\n",
    "    general.spaceMomentumDistributon(info, species, dist, filename, time=50.0)\n",
    "    plt.show()"
   ]
  },
  {
   "cell_type": "code",
   "execution_count": null,
   "metadata": {},
   "outputs": [],
   "source": [
    "species = Species.ALPHA\n",
    "time = 60.0\n",
    "for filename in sorted(V_FLOW_VARIATION_FOLDER.glob(\"*.h5\")):\n",
    "    print(filename.stem[-3:])\n",
    "    plots_2D.pxPyDistribution(info, species, filename, time)\n",
    "    plt.show()"
   ]
  },
  {
   "cell_type": "code",
   "execution_count": null,
   "metadata": {},
   "outputs": [],
   "source": [
    "for filename in sorted(V_FLOW_VARIATION_FOLDER.glob(\"*.h5\")):\n",
    "    label = f\"u_alpha={filename.stem[-3:]}\"\n",
    "    plots_2D.videoEFieldOverTime(info, filename, \"x\", label=label, save=True)"
   ]
  },
  {
   "cell_type": "code",
   "execution_count": null,
   "metadata": {},
   "outputs": [],
   "source": [
    "filenames = sorted(V_FLOW_VARIATION_FOLDER.glob(\"*.h5\"))\n",
    "species = Species.PROTON\n",
    "normalized_velocity = True\n",
    "time_steps = range(0, 1500, 20)\n",
    "labels = [int(p.stem[-3:]) for p in filenames]\n",
    "legend_title=f\"Flow velocity $u_\\\\alpha$ (km/s)\"\n",
    "general.videoMomentumDistribution(\n",
    "    info, Distribution.X_PX, species, filenames,\n",
    "    save=True, labels=labels, legend_title=legend_title,\n",
    "    legend_ncols=2)"
   ]
  },
  {
   "cell_type": "code",
   "execution_count": null,
   "metadata": {},
   "outputs": [],
   "source": [
    "for filename in sorted(V_FLOW_VARIATION_FOLDER.glob(\"*.h5\")):\n",
    "    if filename.stem[-3:] not in [\"100\", \"140\", \"180\"]:\n",
    "        print(\"Skip\")\n",
    "        continue\n",
    "    v = f\"u_alpha={filename.stem[-3:]}\"\n",
    "    plots_2D.videoPxPyDistribution(info, species=Species.PROTON, filename=filename, save=True, label=v)"
   ]
  },
  {
   "cell_type": "code",
   "execution_count": null,
   "metadata": {},
   "outputs": [],
   "source": [
    "filename = RESULTS_FOLDER / \"epoch_2D/v_alpha_bulk_variation/v_alpha_bulk_106.h5\"\n",
    "v_x, v_y, f_v = general._loadPxPyDistribution(info, Species.PROTON, filename, 100, True)\n",
    "f_v[f_v<=0] = np.min(f_v[f_v>0])\n",
    "from scipy import ndimage\n",
    "plt.contourf(np.log(ndimage.gaussian_filter(f_v, sigma=10)))\n",
    "plt.gca().set_aspect(\"equal\")"
   ]
  },
  {
   "cell_type": "markdown",
   "metadata": {},
   "source": [
    "# Simulation 1D"
   ]
  },
  {
   "cell_type": "markdown",
   "metadata": {},
   "source": [
    "## Density variation"
   ]
  },
  {
   "cell_type": "code",
   "execution_count": null,
   "metadata": {},
   "outputs": [],
   "source": [
    "for filename in sorted(DENSITY_VARIATION_FOLDER.glob(\"density_*.h5\")):\n",
    "    print(filename)\n",
    "    ratio = 10 ** float(filename.stem.split(\"_\")[-1])\n",
    "    n_electron = 12e6\n",
    "    n_proton = n_electron / (1 + 2 * ratio)\n",
    "    n_alpha = ratio * n_proton\n",
    "    info = RunInfo(\n",
    "        electron=SpeciesInfo(\n",
    "            number_density=12.0e6,\n",
    "            temperature=100.0,\n",
    "            charge=-1,\n",
    "            mass=1.0,\n",
    "            bulk_velocity=0.0\n",
    "        ),\n",
    "        proton=SpeciesInfo(\n",
    "            number_density=n_proton,\n",
    "            temperature=3.0,\n",
    "            charge=+1,\n",
    "            mass=1836.152674,\n",
    "            bulk_velocity=0.0\n",
    "        ),\n",
    "        alpha=SpeciesInfo(\n",
    "            number_density=n_alpha,\n",
    "            temperature=12.0,\n",
    "            charge=+2,\n",
    "            mass=7294.29953,\n",
    "            bulk_velocity=1.0e5\n",
    "        )\n",
    "    )\n",
    "    plots_1D.energyEFieldOverTime(\n",
    "        filename=filename, info=info\n",
    "    )\n",
    "    plt.show()"
   ]
  },
  {
   "cell_type": "markdown",
   "metadata": {},
   "source": [
    "## Run n=8192"
   ]
  },
  {
   "cell_type": "code",
   "execution_count": null,
   "metadata": {},
   "outputs": [],
   "source": [
    "plots_1D.electricFieldOverSpaceAndTime(\n",
    "    filename=FOLDER_1D / \"proton-alpha-instability-1D.h5\",\n",
    "    info=info, save=False\n",
    ")\n",
    "plt.show()"
   ]
  },
  {
   "cell_type": "code",
   "execution_count": null,
   "metadata": {},
   "outputs": [],
   "source": [
    "plots_1D.averageTemperature3DOverTime(\n",
    "    filename=FOLDER_1D / \"proton-alpha-instability-1D.h5\",\n",
    "    info=info, save=save\n",
    ")\n",
    "plt.show()"
   ]
  },
  {
   "cell_type": "code",
   "execution_count": null,
   "metadata": {},
   "outputs": [],
   "source": [
    "for s in Species:\n",
    "    plots_1D.velocityDistributionOverTime(\n",
    "        filename=PARTICLE_VARIATION_FOLDER / \"particles_4192/rep_0.h5\", #FOLDER_1D / \"proton-alpha-instability-1D.h5\",\n",
    "        info=info, species=s, save=save\n",
    "    )\n",
    "plt.show()"
   ]
  },
  {
   "cell_type": "code",
   "execution_count": null,
   "metadata": {},
   "outputs": [],
   "source": [
    "plots_1D.energyEFieldOverTime(\n",
    "    filename=FOLDER_1D / \"proton-alpha-instability-1D.h5\",\n",
    "    info=info, save=save\n",
    ")\n",
    "plt.show()"
   ]
  },
  {
   "cell_type": "markdown",
   "metadata": {},
   "source": [
    "## Particle variation"
   ]
  },
  {
   "cell_type": "code",
   "execution_count": null,
   "metadata": {},
   "outputs": [],
   "source": [
    "variation_folder = PARTICLE_VARIATION_FOLDER\n",
    "for particle_folder in sorted(variation_folder.glob(\"particles_*\")):\n",
    "    plots_1D.multiElectricFieldEnergyOverTime(\n",
    "        particle_folder, info, save=save,\n",
    "        identifer=f\"particles_per_cell_{int(particle_folder.stem[-4:])}\"\n",
    "    )"
   ]
  },
  {
   "cell_type": "code",
   "execution_count": null,
   "metadata": {},
   "outputs": [],
   "source": [
    "plots_1D.particleVariationEnergyVsTime(info=info, save=save)\n",
    "plt.show()"
   ]
  },
  {
   "cell_type": "code",
   "execution_count": null,
   "metadata": {},
   "outputs": [],
   "source": [
    "for species in Species:\n",
    "    plots_1D.particleVariationTemperature3D(species, save=save)\n",
    "plt.show()"
   ]
  },
  {
   "cell_type": "code",
   "execution_count": null,
   "metadata": {},
   "outputs": [],
   "source": [
    "for species in Species:\n",
    "    plots_1D.particleVariationTemperatureXDiff(info, species, save=save)\n",
    "plt.show()"
   ]
  },
  {
   "cell_type": "code",
   "execution_count": null,
   "metadata": {},
   "outputs": [],
   "source": [
    "for species in Species:\n",
    "    plots_1D.particleVariationTemperatureXVsTime(info, species, save=save)\n",
    "plt.show()"
   ]
  },
  {
   "cell_type": "code",
   "execution_count": null,
   "metadata": {},
   "outputs": [],
   "source": [
    "plots_1D.particleVariationGrowthRate(info, save=save)\n",
    "plt.show()"
   ]
  },
  {
   "cell_type": "code",
   "execution_count": null,
   "metadata": {},
   "outputs": [],
   "source": [
    "plots_1D.particleVariationWavenumber(info=info, save=save)\n",
    "plt.show()"
   ]
  },
  {
   "cell_type": "code",
   "execution_count": null,
   "metadata": {},
   "outputs": [],
   "source": [
    "plots_1D.particleVariationFrequency(info=info, save=save)\n",
    "plt.show()"
   ]
  }
 ],
 "metadata": {
  "kernelspec": {
   "display_name": "analysis",
   "language": "python",
   "name": "python3"
  },
  "language_info": {
   "codemirror_mode": {
    "name": "ipython",
    "version": 3
   },
   "file_extension": ".py",
   "mimetype": "text/x-python",
   "name": "python",
   "nbconvert_exporter": "python",
   "pygments_lexer": "ipython3",
   "version": "3.13.2"
  }
 },
 "nbformat": 4,
 "nbformat_minor": 2
}
