{
 "cells": [
  {
   "cell_type": "code",
   "execution_count": null,
   "metadata": {},
   "outputs": [],
   "source": [
    "%load_ext autoreload\n",
    "%autoreload 2\n",
    "import math\n",
    "from pathlib import Path\n",
    "\n",
    "import h5py\n",
    "import numpy as np\n",
    "from scipy import constants, signal, stats, optimize, integrate\n",
    "from functools import partial\n",
    "import matplotlib\n",
    "import matplotlib.animation as animation\n",
    "import matplotlib.pyplot as plt\n",
    "from mpl_toolkits.axes_grid1 import make_axes_locatable\n",
    "from cycler import cycler\n",
    "\n",
    "import analysis\n",
    "from basic.paths import (\n",
    "    RESULTS_FOLDER,\n",
    "    PARTICLE_VARIATION_FOLDER,\n",
    "    DENSITY_VARIATION_FOLDER,\n",
    "    THEORY_U_ALPHA_FILE,\n",
    "    THEORY_DENSITY_RATIO_FILE,\n",
    "    V_FLOW_VARIATION_FOLDER,\n",
    "    THEORY_U_ALPHA_FILE,\n",
    "    FOLDER_1D,\n",
    "    FOLDER_2D,\n",
    "    MPLSTYLE_FILE\n",
    ")\n",
    "from basic import (\n",
    "    physics,\n",
    "    Species,\n",
    "    SpeciesInfo,\n",
    "    RunInfo,\n",
    "    Distribution\n",
    ")\n",
    "\n",
    "from plots import (\n",
    "    settings,\n",
    "    plots_1D,\n",
    "    plots_2D,\n",
    "    general,\n",
    ")\n",
    "from plots.settings import FIGURE_FULL_SIZE, FIGURE_HALF_SIZE\n",
    "\n",
    "info = RunInfo(\n",
    "    electron=SpeciesInfo(\n",
    "        number_density=12.0e6,\n",
    "        temperature=100.0,\n",
    "        charge=-1,\n",
    "        mass=1.0,\n",
    "        bulk_velocity=0.0\n",
    "    ),\n",
    "    proton=SpeciesInfo(\n",
    "        number_density=10.0e6,\n",
    "        temperature=3.0,\n",
    "        charge=+1,\n",
    "        mass=1836.152674,\n",
    "        bulk_velocity=0.0\n",
    "    ),\n",
    "    alpha=SpeciesInfo(\n",
    "        number_density=1.0e6,\n",
    "        temperature=12.0,\n",
    "        charge=+2,\n",
    "        mass=7294.29953,\n",
    "        bulk_velocity=1.0e5\n",
    "    )\n",
    ")\n",
    "\n",
    "save=False\n",
    "plt.style.use(MPLSTYLE_FILE)\n",
    "matplotlib.rcParams['figure.dpi'] = 100"
   ]
  },
  {
   "cell_type": "code",
   "execution_count": null,
   "metadata": {},
   "outputs": [],
   "source": [
    "import numpy as np\n",
    "import matplotlib.pyplot as plt\n",
    "from scipy.integrate import qmc_quad\n",
    "\n",
    "def indicatorRotatedRect(x, y, w, h, theta):\n",
    "    x_rot = x * np.cos(theta) - y * np.sin(theta)\n",
    "    y_rot = x * np.sin(theta) + y * np.cos(theta)\n",
    "    return (np.abs(x_rot) <= w / 2) & (np.abs(y_rot) <= h / 2)\n",
    "\n",
    "def generic_integrand(xy, w, h, theta, func):\n",
    "    x, y = xy[0], xy[1]\n",
    "    f1 = indicatorRotatedRect(x, y, w, h, +theta)\n",
    "    f2 = indicatorRotatedRect(x, y, w, h, -theta)\n",
    "    return func(x, y, (f1 | f2).astype(np.float64))\n",
    "\n",
    "# Parameters\n",
    "w, h = 2, 1.0\n",
    "theta_vals = np.linspace(0, 60, 100) * np.pi / 180\n",
    "\n",
    "tx = np.empty_like(theta_vals)\n",
    "ty = np.empty_like(theta_vals)\n",
    "n0 = np.empty_like(theta_vals)\n",
    "\n",
    "# Compute T(θ) using qmc_quad\n",
    "for i, theta in enumerate(theta_vals):\n",
    "    f_n0 = lambda xy: generic_integrand(xy, w, h, theta, lambda x, y, f: f)\n",
    "    f_tx = lambda xy: generic_integrand(xy, w, h, theta, lambda x, y, f: x ** 2 * f)\n",
    "    f_ty = lambda xy: generic_integrand(xy, w, h, theta, lambda x, y, f: y ** 2 * f)\n",
    "\n",
    "    n0_single, n0_err = qmc_quad(f_n0, a=[-w/2,-w/2], b=[w/2,w/2], n_estimates=2, n_points=10 ** 4)\n",
    "    tx_single, tx_err = qmc_quad(f_tx, a=[-w/2,-w/2], b=[w/2,w/2], n_estimates=2, n_points=10 ** 4)\n",
    "    ty_single, ty_err = qmc_quad(f_ty, a=[-w/2,-w/2], b=[w/2,w/2], n_estimates=2, n_points=10 ** 4)\n",
    "    n0[i] = n0_single\n",
    "    tx[i] = tx_single\n",
    "    ty[i] = ty_single"
   ]
  },
  {
   "cell_type": "code",
   "execution_count": null,
   "metadata": {},
   "outputs": [],
   "source": [
    "T_2D = (tx + ty) / (2 * n0)\n",
    "\n",
    "plt.figure(figsize=(8, 5))\n",
    "plt.plot(100 / np.cos(theta_vals), T_2D / np.max(T_2D) / (100 / np.cos(theta_vals)) ** 2, label='Temperature $T(\\\\theta)$')\n",
    "plt.xlabel('Angle θ (degrees)')\n",
    "plt.ylabel('Temperature T')\n",
    "plt.title('Temperature vs. Rotation Angle θ')\n",
    "plt.grid(True)\n",
    "plt.legend()\n",
    "plt.tight_layout()\n",
    "plt.show()"
   ]
  },
  {
   "cell_type": "code",
   "execution_count": null,
   "metadata": {},
   "outputs": [],
   "source": [
    "# visualization of distribution overlap with interaction region\n",
    "from ipywidgets import interactive\n",
    "import matplotlib.pyplot as plt\n",
    "import numpy as np\n",
    "\n",
    "def interactive_plot(u_alpha):\n",
    "    width = 40\n",
    "    c_s = info.c_s * 1e-3\n",
    "    if u_alpha < c_s:\n",
    "        theta = 0\n",
    "    else:\n",
    "        theta = np.arccos(c_s / u_alpha)\n",
    "\n",
    "    t = np.linspace(0, c_s)\n",
    "    s = np.linspace(-5 * c_s, 5 * c_s)\n",
    "    plt.figure()\n",
    "    # plt.text(0, 0, f\"{u_alpha} {theta}\")\n",
    "    circle = plt.Circle((0,0), radius=c_s, fill=False, ls=\"--\", lw=2)\n",
    "    plt.plot(np.cos(theta) * t, np.sin(theta) * t, ls=\"solid\")\n",
    "    plt.plot(np.cos(theta) * t, -np.sin(theta) * t, ls=\"solid\")\n",
    "    plt.plot(c_s * np.cos(theta) + np.sin(theta) * s, c_s * np.sin(theta) - np.cos(theta) * s)\n",
    "    plt.plot(c_s * np.cos(theta) + np.sin(theta) * s, -c_s * np.sin(theta) + np.cos(theta) * s)\n",
    "    rect_pos = plt.Rectangle(\n",
    "        xy=(\n",
    "            (c_s - width / 2) * np.cos(theta) + np.sin(theta) * (-2 * c_s),\n",
    "            (c_s - width / 2) * np.sin(theta) - np.cos(theta) * (-2 * c_s)\n",
    "        ),\n",
    "        width=1000, height=width, angle=theta * 180 / np.pi+270, alpha=0.4, edgecolor=\"black\"\n",
    "    )\n",
    "    rect_neg = plt.Rectangle(\n",
    "        xy=(\n",
    "            +(c_s + width / 2) * np.cos(theta) + np.sin(theta) * (-2 * c_s),\n",
    "            -(c_s + width / 2) * np.sin(theta) + np.cos(theta) * (-2 * c_s)\n",
    "        ),\n",
    "        width=1000, height=width, angle=-theta * 180 / np.pi+90, alpha=0.4, edgecolor=\"black\"\n",
    "    )\n",
    "    plt.scatter(u_alpha, 0, s=40,zorder=5)\n",
    "    plt.gca().add_patch(circle)\n",
    "    plt.gca().add_patch(rect_pos)\n",
    "    plt.gca().add_patch(rect_neg)\n",
    "    plt.gca().set_aspect(\"equal\")\n",
    "    plt.xlim(-110, u_alpha+width)\n",
    "    plt.ylim(-110, 110)\n",
    "    plt.xlabel(\"Velocity $v_{\\\\alpha,x}$ (km/s)\")\n",
    "    plt.ylabel(\"Velocity $v_{\\\\alpha,y}$ (km/s)\")\n",
    "    plt.show()\n",
    "\n",
    "interactive_plt = interactive(interactive_plot, u_alpha=(100.0, 200.0))\n",
    "interactive_plt"
   ]
  },
  {
   "cell_type": "code",
   "execution_count": null,
   "metadata": {},
   "outputs": [],
   "source": [
    "magnetic_field_strength = 4.346348316425957e-06# 45e-9\n",
    "omega_c_alpha = magnetic_field_strength * info.alpha.si_charge / info.alpha.si_mass\n",
    "omega_c_proton = magnetic_field_strength * info.proton.si_charge / info.proton.si_mass\n",
    "print(f\"B = {magnetic_field_strength * 1e4}\")\n",
    "print(info.omega_pp / omega_c_alpha)\n",
    "print(info.omega_pp / omega_c_proton)\n",
    "print(info.omega_pp / (10 * info.proton.si_charge / info.proton.si_mass))"
   ]
  },
  {
   "cell_type": "markdown",
   "metadata": {},
   "source": [
    "# Simulation 2D"
   ]
  },
  {
   "cell_type": "code",
   "execution_count": null,
   "metadata": {},
   "outputs": [],
   "source": [
    "# plot max-e-field energy\n",
    "# TODO: Change markers & colors, perhaps change the format completely so that there is more space for the different markers (in that case focus on 100 and 140 km/s)\n",
    "plots_2D.magneticFieldDirectionElectricField(info, save=False)\n",
    "plt.show()"
   ]
  },
  {
   "cell_type": "markdown",
   "metadata": {},
   "source": [
    "## Alpha flow-speed variation (B=0)"
   ]
  },
  {
   "cell_type": "code",
   "execution_count": null,
   "metadata": {},
   "outputs": [],
   "source": [
    "plots_2D.maxEnergyVsAlphaFlowSpeed(info, normalize_energy=True, save=save)\n",
    "plt.show()"
   ]
  },
  {
   "cell_type": "code",
   "execution_count": null,
   "metadata": {},
   "outputs": [],
   "source": [
    "plots_2D.waveAngleVsAlphaFlowSpeed(info, \"x\", save=True)\n",
    "plt.show()"
   ]
  },
  {
   "cell_type": "code",
   "execution_count": null,
   "metadata": {},
   "outputs": [],
   "source": [
    "plots_2D.wavenumberVsAlphaFlowSpeed(info, save=True)\n",
    "plots_2D.omegaVsAlphaFlowSpeed(info, save=True)\n",
    "plt.show()"
   ]
  },
  {
   "cell_type": "code",
   "execution_count": null,
   "metadata": {},
   "outputs": [],
   "source": [
    "files = sorted(V_FLOW_VARIATION_FOLDER.glob(\"*.h5\"))\n",
    "flow_velocity = np.empty(len(files))\n",
    "growth_rate = []\n",
    "for file_idx, filename in enumerate(files):\n",
    "    flow_velocity[file_idx] = int(filename.stem[-3:])\n",
    "    with h5py.File(filename) as f:\n",
    "        E_x = f['Electric Field/ex'][1:]\n",
    "        E_y = f['Electric Field/ey'][1:]\n",
    "        time = f[\"Header/time\"][1:] * info.omega_pp\n",
    "    res = analysis.fitGrowthRate(time, np.mean(E_x ** 2 + E_y ** 2, axis=(1,2)), allowed_slope_deviation=0.5)\n",
    "    growth_rate.append(res[0].slope/2)\n",
    "growth_rate = np.array(growth_rate)\n",
    "print(np.max(np.abs(np.mean(growth_rate) - growth_rate)) / np.abs(np.mean(growth_rate)))\n",
    "plt.plot(flow_velocity, growth_rate, ls=\"\", marker=\"o\", color=\"white\", markeredgecolor=\"black\", markeredgewidth=1)\n",
    "with h5py.File(THEORY_U_ALPHA_FILE) as f:\n",
    "        theory_v = f[\"u_alpha_bulk\"][:] / 1e3\n",
    "        theory_gamma = f[\"gamma_max\"][:] / info.omega_pp\n",
    "print(theory_gamma)\n",
    "plt.plot(theory_v, theory_gamma)"
   ]
  },
  {
   "cell_type": "code",
   "execution_count": null,
   "metadata": {},
   "outputs": [],
   "source": [
    "\n",
    "for filename in sorted(V_FLOW_VARIATION_FOLDER.glob(\"*.h5\")):\n",
    "    for species in [Species.ALPHA]:\n",
    "        with h5py.File(filename) as f:\n",
    "            time = f[\"Header/time\"][:]\n",
    "            # print(f['Derived'].keys())\n",
    "            # print(f['Derived/Particles_Average_Px'].keys(), species.value, f'Dervied/Particles_Average_Px/{species.value}')\n",
    "            # vx = np.mean(f[f'Derived/Particles_Average_Px/{species.value}'], axis=(1,2)) / info[species].si_mass\n",
    "            # vy = np.mean(f[f'Derived/Particles_Average_Py/{species.value}'], axis=(1,2)) / info[species].si_mass\n",
    "            # T_3D = np.mean(f['Derived/temperature'], axis=(1,2))\n",
    "            avg_E = np.mean(f[f'Derived/Average_Particle_Energy/{species.value}'], axis=(1,2))\n",
    "        # E_kin = 0.5 * info[species].si_mass * (vx ** 2 + vy ** 2) / constants.electron_volt\n",
    "        plt.plot(time * info.omega_pp, avg_E / avg_E[0], label=filename.stem[-3:]) # species.value\n",
    "        # plt.plot(E_kin)\n",
    "    # plt.yscale(\"log\")\n",
    "plt.legend()\n",
    "plt.show()\n",
    "    # break"
   ]
  },
  {
   "cell_type": "code",
   "execution_count": null,
   "metadata": {},
   "outputs": [],
   "source": [
    "files = sorted(V_FLOW_VARIATION_FOLDER.glob(\"*.h5\"))\n",
    "arr_k = np.empty(len(files))\n",
    "arr_k_err = np.empty(len(files))\n",
    "arr_omega = np.empty(len(files))\n",
    "flow_velocity = np.empty(len(files))\n",
    "for file_idx, filename in enumerate(files):\n",
    "    flow_velocity[file_idx] = int(filename.stem[-3:])\n",
    "    with h5py.File(filename) as f:\n",
    "        x = f[\"Grid/grid/X\"][:] / info.lambda_D\n",
    "        y = f[\"Grid/grid/Y\"][:] / info.lambda_D\n",
    "        E_x = f['Electric Field/ex'][1:]\n",
    "        E_y = f['Electric Field/ey'][1:]\n",
    "        time = f[\"Header/time\"][1:] * info.omega_pp\n",
    "    res = analysis.fitGrowthRate(time, np.mean(E_x ** 2 + E_y ** 2, axis=(1,2)))\n",
    "    linear_idx = slice(res[1][-1])\n",
    "    E_field = E_x[linear_idx]\n",
    "    # k-vector\n",
    "    k, k_err = analysis.waveVector2D(x, y, E_field)\n",
    "    arr_k[file_idx] = np.linalg.norm(k)\n",
    "    arr_k_err[file_idx] = np.linalg.norm(k * k_err / np.linalg.norm(k))\n",
    "    # frequency\n",
    "    f, p = signal.periodogram(E_field, axis=-3, fs=1/(time[1] - time[0]))\n",
    "    p_mean = np.mean(p, axis=(1,2))\n",
    "    f *= 2 * np.pi\n",
    "    def lorentzian( x, x0, gam, a, b):\n",
    "        return a * gam**2 / ( gam**2 + ( x - x0 )**2) + b\n",
    "\n",
    "    popt, pcov = optimize.curve_fit(\n",
    "        lambda x, x0, gam, a, b: np.log(lorentzian(x, x0, gam, a, b)),\n",
    "        f[f<np.pi][1:], np.log(p_mean[f<np.pi][1:]),\n",
    "        p0=[f[1:][np.argmax(p_mean[1:])], 0.05, np.max(p_mean[1:]), 0])\n",
    "    arr_omega[file_idx] = popt[0]\n",
    "\n",
    "plt.errorbar(flow_velocity[:-1], (arr_omega / arr_k)[:-1], yerr=(arr_k_err / arr_omega)[:-1], ls=\"\", marker=\"o\")\n",
    "with h5py.File(THEORY_U_ALPHA_FILE) as f:\n",
    "    u_alpha = f[\"u_alpha_bulk\"][:] * 1e-3\n",
    "    gamma = f[\"gamma_max\"][:] / info.omega_pp\n",
    "    theta = f[\"theta_max\"][:] * 180 / np.pi\n",
    "    k_vec = f[\"k_max\"][:] * info.lambda_D\n",
    "    omega = f[\"omega_max\"][:] / info.omega_pp\n",
    "\n",
    "plt.plot(u_alpha, omega/k_vec)\n",
    "plt.xlabel(\"Flow speed (km/s)\")\n",
    "plt.ylabel(\"Phase speed (1)\")"
   ]
  },
  {
   "cell_type": "code",
   "execution_count": null,
   "metadata": {},
   "outputs": [],
   "source": [
    "plots_2D.psdOmegaForAlphaFlowSpeed(info, \"x\", save=False)\n",
    "plt.show()"
   ]
  },
  {
   "cell_type": "code",
   "execution_count": null,
   "metadata": {},
   "outputs": [],
   "source": [
    "for species in [Species.ELECTRON]:\n",
    "    plots_2D.psdFlowVelocity(info, species, \"x\", \"x\")\n",
    "    plt.show()"
   ]
  },
  {
   "cell_type": "code",
   "execution_count": null,
   "metadata": {},
   "outputs": [],
   "source": [
    "for species in Species:\n",
    "    plots_2D.temperature3DOverTimeForAlphaFlowSpeed(\n",
    "        info, species\n",
    "    )"
   ]
  },
  {
   "cell_type": "code",
   "execution_count": null,
   "metadata": {},
   "outputs": [],
   "source": [
    "files = sorted(V_FLOW_VARIATION_FOLDER.glob(\"*.h5\"))\n",
    "n_points: int=10\n",
    "species = Species.ELECTRON\n",
    "\n",
    "plt.style.use(MPLSTYLE_FILE)\n",
    "fig, axes = plt.subplots(1, 2, figsize=(FIGURE_FULL_SIZE[0] - 0.3, 3), sharex=True)\n",
    "for ax, normalize_temperature in zip(axes, [False, True]):\n",
    "    velocity = np.empty(len(files))\n",
    "    T_diff = np.empty(len(files))\n",
    "    T_diff_err = np.empty(len(files))\n",
    "    for file_idx, filename in enumerate(files):\n",
    "        velocity[file_idx] = int(filename.stem[-3:])\n",
    "        with h5py.File(filename) as f:\n",
    "            temp = physics.kelvinToElectronVolt(\n",
    "                np.mean(f[f\"Derived/Temperature/{species.value}\"], axis=(1,2))\n",
    "            )\n",
    "        T_diff[file_idx] = np.mean(temp[-n_points:]) - np.mean(temp[:n_points])\n",
    "        T_diff_err[file_idx] = np.sqrt(\n",
    "            np.var(temp[-n_points:]) + np.var(temp[:n_points])\n",
    "        ) / np.sqrt(n_points)\n",
    "    if normalize_temperature:\n",
    "        K_alpha_t0 = (info.alpha.si_mass * (velocity * 1e3) ** 2 / (2 * constants.electron_volt))\n",
    "        T_diff /= K_alpha_t0\n",
    "        T_diff_err /= K_alpha_t0\n",
    "    else:\n",
    "        T_diff /= info[species].temperature\n",
    "        T_diff_err /= info[species].temperature\n",
    "    ax.errorbar(\n",
    "        velocity, T_diff, yerr=T_diff_err,\n",
    "        marker=\"p\" if normalize_temperature else \"o\",\n",
    "        color=\"cornflowerblue\" if normalize_temperature else \"white\",\n",
    "        ls=\"\", markeredgecolor=\"black\", markeredgewidth=1\n",
    "    )\n",
    "    ax.set(\n",
    "        xlim=(95, 185),\n",
    "        xticks=np.arange(100, 185, 20),\n",
    "    )\n",
    "    if normalize_temperature:\n",
    "        ax.ticklabel_format(style='sci', axis='y', scilimits=(-2,2), useMathText=True)\n",
    "        ax.set_ylabel(f\"Heating $\\\\Delta T_{species.symbol()}\\\\,/\\\\,K_\\\\alpha^{{t=0}}$ (1)\")\n",
    "    else:\n",
    "        ax.set_ylabel(f\"Heating $\\\\Delta T_{species.symbol()}\\\\,/\\\\,T_{species.symbol()}$ (eV)\")\n",
    "axes[0].set_xlabel(f\"Flow velocity $u_\\\\alpha^{{t=0}}$ (km$\\\\,/\\\\,$s)\")\n",
    "axes[1].set_xlabel(f\"Flow velocity $u_\\\\alpha^{{t=0}}$ (km$\\\\,/\\\\,$s)\")\n",
    "fig.tight_layout(h_pad=0.2)\n",
    "plt.savefig(f\"figures/svg/simulation-2D/alpha_flow_velocity_variation/heating_{species}.svg\", bbox_inches=\"tight\")"
   ]
  },
  {
   "cell_type": "code",
   "execution_count": null,
   "metadata": {},
   "outputs": [],
   "source": [
    "plots_2D.heatingVsAlphaFlowVelocity(info, save=False)\n",
    "plt.show()"
   ]
  },
  {
   "cell_type": "code",
   "execution_count": null,
   "metadata": {},
   "outputs": [],
   "source": [
    "for filename in sorted(V_FLOW_VARIATION_FOLDER.glob(\"*.h5\")):\n",
    "    plots_2D.electricField2DSnapshot(filename, info, time=50.0, save=True)\n",
    "    plt.show()\n",
    "    break"
   ]
  },
  {
   "cell_type": "code",
   "execution_count": null,
   "metadata": {},
   "outputs": [],
   "source": [
    "for filename in sorted((FOLDER_2D / \"v_alpha_bulk_variation_By\").glob(\"*.h5\")):\n",
    "    plots_2D.electricField2DSnapshot(filename, info, time=50.0)\n",
    "    plt.show()"
   ]
  },
  {
   "cell_type": "code",
   "execution_count": null,
   "metadata": {},
   "outputs": [],
   "source": [
    "for filename in sorted((FOLDER_2D / \"v_alpha_bulk_variation_Bx_By\").glob(\"*.h5\")):\n",
    "    plots_2D.energyEFieldOverTime(filename, info)\n",
    "    plt.show()"
   ]
  },
  {
   "cell_type": "code",
   "execution_count": null,
   "metadata": {},
   "outputs": [],
   "source": [
    "for filename in sorted(V_FLOW_VARIATION_FOLDER.glob(\"*.h5\")):\n",
    "    # plots_2D.strengthBFieldOverTime(filename, info)\n",
    "    plots_2D.psdBField(filename, info, True)\n",
    "    plots_2D.energyBField(filename, info, save=True)\n",
    "    plt.show()\n",
    "    break"
   ]
  },
  {
   "cell_type": "code",
   "execution_count": null,
   "metadata": {},
   "outputs": [],
   "source": [
    "for species in Species:\n",
    "    plots_2D.flowVelocityVsTime(info, species, \"x\", \"x\")\n",
    "    plt.show()"
   ]
  },
  {
   "cell_type": "code",
   "execution_count": null,
   "metadata": {},
   "outputs": [],
   "source": [
    "for filename in sorted(V_FLOW_VARIATION_FOLDER.glob(\"*.h5\")):\n",
    "    plots_2D.energiesOverTime(filename, info)\n",
    "    plt.show()\n",
    "    break"
   ]
  },
  {
   "cell_type": "code",
   "execution_count": null,
   "metadata": {},
   "outputs": [],
   "source": [
    "# Kinetic energies in the system\n",
    "for filename in sorted(V_FLOW_VARIATION_FOLDER.glob(\"*.h5\")):\n",
    "    plt.figure()\n",
    "    K_species = []\n",
    "    for species in Species:\n",
    "        u_alpha = int(filename.stem[-3:])\n",
    "        with h5py.File(filename) as f:\n",
    "            time = f[\"Header/time\"][:] * info.omega_pp\n",
    "            x_grid = f[f\"Grid/grid/X\"][:]\n",
    "            y_grid = f[f\"Grid/grid/Y\"][:]\n",
    "            px_grid = f[f\"Grid/px_py/{species.value}/Px\"][:]\n",
    "            py_grid = f[f\"Grid/px_py/{species.value}/Py\"][:]\n",
    "            px_py = f[f'dist_fn/px_py/{species.value}'][:]\n",
    "        # TODO: Wrong\n",
    "        u_x, u_y = analysis.flowVelocity2D(x_grid, y_grid, px_grid, py_grid, px_py, info[species])\n",
    "        K = 0.5 * info[species].si_mass * (u_x ** 2 + u_y ** 2) / constants.electron_volt\n",
    "        K_species.append(info[species].number_density * K)\n",
    "    for K_s, species in zip(K_species, Species):\n",
    "        plt.plot(time, K_s * 1e-6, label=f\"$W_{{{species.symbol()}}}$\")\n",
    "    # plt.plot(time[1:], W_total[1:] * 1e-6, label=\"$W_\\\\text{total}$\")\n",
    "    plt.yscale(\"log\")\n",
    "    plt.xlabel(\"Time $t\\\\,\\\\omega_{pp}$ (1)\")\n",
    "    plt.ylabel(\"Kinetic energy density K (MeV$\\\\,/\\\\,$m$^3$)\")\n",
    "    plt.xlim(0.0, 150.0)\n",
    "    plt.legend(ncols=3, labelspacing=.2, columnspacing=0.5)\n",
    "    plt.show()\n",
    "    break"
   ]
  },
  {
   "cell_type": "code",
   "execution_count": null,
   "metadata": {},
   "outputs": [],
   "source": [
    "species = Species.PROTON\n",
    "files = sorted(V_FLOW_VARIATION_FOLDER.glob(\"*.h5\"))\n",
    "labels = [int(p.stem[-3:]) for p in files]\n",
    "general.momentumDistributionComparison(\n",
    "    info, species, Distribution.X_PX, legend_ncols=2,\n",
    "    files=files, labels=labels, times=150.0, legend_title=f\"Flow velocity $u_\\\\alpha$ (km/s)\")\n",
    "plt.show()"
   ]
  },
  {
   "cell_type": "code",
   "execution_count": null,
   "metadata": {},
   "outputs": [],
   "source": [
    "times = [0.0, 150.0]\n",
    "species = Species.ALPHA\n",
    "for i, filename in enumerate(sorted((FOLDER_2D / \"v_alpha_bulk_variation\").glob(\"*.h5\"))):\n",
    "    if i < 3: continue\n",
    "    print(filename.stem[-3:])\n",
    "    general.momentumDistributionComparison(info, species, Distribution.X_PX, filename, times, save=True)\n",
    "    break\n",
    "plt.show()"
   ]
  },
  {
   "cell_type": "code",
   "execution_count": null,
   "metadata": {},
   "outputs": [],
   "source": [
    "species = Species.ALPHA\n",
    "dist = Distribution.X_PX\n",
    "for filename in sorted(V_FLOW_VARIATION_FOLDER.glob(\"*.h5\")):\n",
    "    general.spaceMomentumDistributon(info, species, dist, filename, time=50.0)\n",
    "    plt.show()\n",
    "    break"
   ]
  },
  {
   "cell_type": "code",
   "execution_count": null,
   "metadata": {},
   "outputs": [],
   "source": [
    "species = Species.ALPHA\n",
    "time = 60.0\n",
    "for filename in sorted(V_FLOW_VARIATION_FOLDER.glob(\"*.h5\"))[3:]:\n",
    "    print(filename.stem[-3:])\n",
    "    plots_2D.pxPyDistribution(info, species, filename, time)\n",
    "    plt.show()\n",
    "    break"
   ]
  },
  {
   "cell_type": "code",
   "execution_count": null,
   "metadata": {},
   "outputs": [],
   "source": [
    "species = Species.PROTON\n",
    "time = 150.0\n",
    "for filename in sorted(V_FLOW_VARIATION_FOLDER.glob(\"*.h5\"))[3:]:\n",
    "    print(filename.stem[-3:])\n",
    "    plots_2D.pxPyDistribution(info, species, filename, time)\n",
    "    plt.show()\n",
    "    break"
   ]
  },
  {
   "cell_type": "code",
   "execution_count": null,
   "metadata": {},
   "outputs": [],
   "source": [
    "plt.rcParams[\"figure.dpi\"] = 200\n",
    "fig = plt.figure(constrained_layout=True, figsize=(5,4))\n",
    "axes = fig.subplot_mosaic([[\"v_p\", \"v_a\"],[\"f_p\", \"f_p\"]], height_ratios=[1.5,1])\n",
    "# fig, ax = plt.subplots(1, 2, figsize=(5,5))\n",
    "filename = sorted(V_FLOW_VARIATION_FOLDER.glob(\"*.h5\"))[3]\n",
    "plots_2D._pxPyDistSubplot(fig, axes[\"v_p\"], info, filename, Species.PROTON, 54.4, (-3.5,7.17), (-5,5), False, True)\n",
    "axes[\"v_p\"].set_axis_off()\n",
    "axes[\"v_p\"].set_aspect(\"equal\")\n",
    "plots_2D._pxPyDistSubplot(fig, axes[\"v_a\"], info, filename, Species.ALPHA, 54.4, (1.83, 7.6 * (3.5+ 7.17) / 10+1.7+11/(2 ** 9)), (-3.8,3.8), False, True)\n",
    "axes[\"v_a\"].set_axis_off()\n",
    "axes[\"v_a\"].set_aspect(\"equal\")\n",
    "\n",
    "filename = PARTICLE_VARIATION_FOLDER / \"particles_8192/rep_0.h5\"\n",
    "v, f_v = general._loadSpaceMomDistribution(\n",
    "    info, species, filename, Distribution.X_PX, 54.4, True\n",
    ")\n",
    "dv = abs(v[1] - v[0])\n",
    "v = np.concat([[v[0]-dv], v]) + dv / 2\n",
    "\n",
    "with h5py.File(filename) as f:\n",
    "    if f\"Grid/grid/X\" in f:\n",
    "        x_grid = f[f\"Grid/grid/Px\"][:] / info.lambda_D\n",
    "    else:\n",
    "        x_grid = f[\"Grid/grid\"][:] / info.lambda_D\n",
    "\n",
    "f_v[f_v == 0] = np.min(f_v[f_v>0])\n",
    "axes[\"f_p\"].pcolormesh(x_grid, v, f_v.T, norm=\"log\", cmap=plt.colormaps[\"viridis\"], rasterized=True)\n",
    "# v_lim = (np.min(v), np.max(v))\n",
    "# print(v_lim)\n",
    "# axes[\"f_p\"].set_ylim(-1.5, 8.5)\n",
    "axes[\"f_p\"].set_axis_off()\n",
    "\n",
    "# plt.tight_layout()\n",
    "plt.savefig(\"title.svg\", bbox_inches=\"tight\")"
   ]
  },
  {
   "cell_type": "code",
   "execution_count": null,
   "metadata": {},
   "outputs": [],
   "source": [
    "filename = sorted(V_FLOW_VARIATION_FOLDER.glob(\"*.h5\"))[3]\n",
    "plots_2D.velocitySpaceVsFlowVelocity(info, filename, save=True)\n",
    "plt.show()"
   ]
  },
  {
   "cell_type": "code",
   "execution_count": null,
   "metadata": {},
   "outputs": [],
   "source": [
    "plt.style.use(MPLSTYLE_FILE)\n",
    "for time, regime in zip([55.0, 150.0], [True, False]):\n",
    "    for species, xlim, ylim in zip([Species.PROTON, Species.ALPHA], [(-3, 9), (0, 9)], [(-6, 6), (-5, 5)]):\n",
    "        fig, ax = plt.subplots(\n",
    "            1, 1, sharex=\"col\", layout=\"constrained\",\n",
    "            figsize=(2.52 if species == Species.PROTON else 2.5, FIGURE_HALF_SIZE[1]),\n",
    "        )\n",
    "\n",
    "        i = 0\n",
    "        plots_2D._pxPyDistSubplot(fig, ax, info, filename, species, time, xlim, ylim, True, regime)\n",
    "        ax.set_xlabel(f\"Velocity $v_{{{species.symbol()},x}}\\\\,/\\\\,v^{{t=0}}_{{\\\\text{{t}}{species.symbol()}}}$ (1)\")\n",
    "        plt.savefig(f\"figures/svg/simulation-2D/alpha_flow_velocity_variation/velocity_space-u_alpha=140-{species}_t={50 if regime else 150}.svg\", bbox_inches=\"tight\", transparent=True)\n",
    "plt.show()"
   ]
  },
  {
   "cell_type": "code",
   "execution_count": null,
   "metadata": {},
   "outputs": [],
   "source": [
    "for filename in sorted(V_FLOW_VARIATION_FOLDER.glob(\"*.h5\")):\n",
    "    label = f\"u_alpha={filename.stem[-3:]}\"\n",
    "    plots_2D.videoEFieldOverTime(info, filename, \"x\", label=label, save=True)"
   ]
  },
  {
   "cell_type": "code",
   "execution_count": null,
   "metadata": {},
   "outputs": [],
   "source": [
    "filenames = sorted(V_FLOW_VARIATION_FOLDER.glob(\"*.h5\"))\n",
    "species = Species.PROTON\n",
    "normalized_velocity = True\n",
    "time_steps = range(0, 1500, 20)\n",
    "labels = [int(p.stem[-3:]) for p in filenames]\n",
    "legend_title=f\"Flow velocity $u_\\\\alpha$ (km/s)\"\n",
    "general.videoMomentumDistribution(\n",
    "    info, Distribution.X_PX, species, filenames,\n",
    "    save=False, labels=labels, legend_title=legend_title,\n",
    "    legend_ncols=2)"
   ]
  },
  {
   "cell_type": "code",
   "execution_count": null,
   "metadata": {},
   "outputs": [],
   "source": [
    "45e-9 / np.sqrt(constants.mu_0 * np.sum([i.si_mass * i.number_density for i in info]))"
   ]
  },
  {
   "cell_type": "code",
   "execution_count": null,
   "metadata": {},
   "outputs": [],
   "source": [
    "for filename in sorted(V_FLOW_VARIATION_FOLDER.glob(\"*.h5\")):\n",
    "    v = f\"u_alpha={filename.stem[-3:]}\"\n",
    "    plots_2D.videoPxPyDistribution(info, species=Species.PROTON, filename=filename, save=True, label=v)"
   ]
  },
  {
   "cell_type": "code",
   "execution_count": null,
   "metadata": {},
   "outputs": [],
   "source": [
    "for filename in sorted(V_FLOW_VARIATION_FOLDER.glob(\"*.h5\")):\n",
    "    v = f\"u_alpha={filename.stem[-3:]}\"\n",
    "    plots_2D.videoPxPyDistribution(info, species=Species.ALPHA, filename=filename, save=True, label=v)"
   ]
  },
  {
   "cell_type": "markdown",
   "metadata": {},
   "source": [
    "## Magnetic Fields"
   ]
  },
  {
   "cell_type": "code",
   "execution_count": null,
   "metadata": {},
   "outputs": [],
   "source": [
    "plots_2D.waveNumberVsMagneticField(info, save=True)\n",
    "plots_2D.frequencyVsMagneticField(info, save=True)\n",
    "plt.show()"
   ]
  },
  {
   "cell_type": "code",
   "execution_count": null,
   "metadata": {},
   "outputs": [],
   "source": [
    "B = 45e-9\n",
    "species = Species.ELECTRON\n",
    "omega_c = np.abs(info[species].si_charge) * B / info[species].si_mass\n",
    "omega_c / info.omega_pp * 150 * 2 * 180\n",
    "print(omega_c / info.omega_pp)"
   ]
  },
  {
   "cell_type": "code",
   "execution_count": null,
   "metadata": {},
   "outputs": [],
   "source": [
    "30e-9 / np.sqrt(constants.mu_0 * np.sum([i.si_mass * i.number_density for i in info]))"
   ]
  },
  {
   "cell_type": "markdown",
   "metadata": {},
   "source": []
  },
  {
   "cell_type": "code",
   "execution_count": null,
   "metadata": {},
   "outputs": [],
   "source": [
    "alpha = np.linspace(0, 60 * np.pi / 180)\n",
    "plt.plot(np.cos(alpha), np.sin(alpha))\n",
    "plt.gca().set_axis_off()\n",
    "plt.gca().set_aspect(\"equal\")\n",
    "plt.savefig(\"figures/svg/simulation-2D/magnetic_fields/magnetic_field_proton_trajectory.svg\", bbox_inches=\"tight\", transparent=True)\n",
    "plt.show()"
   ]
  },
  {
   "cell_type": "code",
   "execution_count": null,
   "metadata": {},
   "outputs": [],
   "source": [
    "for species in Species:\n",
    "    plots_2D.heatingVsMagneticField(info, species, save=True)\n",
    "    plt.show()"
   ]
  },
  {
   "cell_type": "code",
   "execution_count": null,
   "metadata": {},
   "outputs": [],
   "source": [
    "# plot 3D temperature vs time for different magnetic fields.\n",
    "species = Species.PROTON\n",
    "plt.style.use(MPLSTYLE_FILE)\n",
    "plt.figure()\n",
    "\n",
    "leg_u100 = []\n",
    "leg_u140 = []\n",
    "for u_label in [100, 140]:\n",
    "    for folder_id, label in zip([\"\", \"_Bx\", \"_By\", \"_Bz\", \"_Bx_By\"], [\"B=0\", \"B_x>0\", \"B_y>0\", \"B_z>0\", \"B_x=B_y\"]):\n",
    "        for filename in sorted((FOLDER_2D / f\"v_alpha_bulk_variation{folder_id}\").glob(\"*.h5\")):\n",
    "            u = int(filename.stem[-3:])\n",
    "            if u != u_label:\n",
    "                continue\n",
    "            with h5py.File(filename) as f:\n",
    "                time = f[\"Header/time\"][:] * info.omega_pp\n",
    "                temp = np.mean(f[f\"Derived/Temperature/{species.value}\"], axis=(1,2))\n",
    "            line = plt.plot(\n",
    "                time, physics.kelvinToElectronVolt(temp),\n",
    "                # label=f\"(${label}$) $u_\\\\alpha^{{t=0}}$ = {v}\"\n",
    "                label=f\"${label}$\"\n",
    "            )[0]\n",
    "            (leg_u100 if u_label == 100 else leg_u140).append(line)\n",
    "leg1 = plt.legend(handles=leg_u100, loc=\"upper left\", title=\"$u_\\\\alpha^{t=0}$=100 km/s\",ncols=1 if species == Species.ELECTRON else 2, columnspacing=0.5, labelspacing=0.5, fancybox=False, framealpha=0.4)\n",
    "plt.legend(handles=leg_u140, title=\"$u_\\\\alpha^{t=0}$=140 km/s\", loc=\"lower right\", ncols=3 if species == Species.ELECTRON else 2, columnspacing=0.5, labelspacing=0.5, fancybox=False, framealpha=0.4)\n",
    "plt.gca().add_artist(leg1)\n",
    "plt.xlabel(\"Time $t\\\\,\\\\omega_{pp}$ (1)\")\n",
    "plt.ylabel(f\"Temperature $T_{species.symbol()}$ (eV)\")\n",
    "plt.xlim(0, 150.0)\n",
    "y_low = 1.5 if species == Species.PROTON else 5\n",
    "plt.ylim(bottom=2 if species == Species.PROTON else 10 if species == Species.ALPHA else 99.7)\n",
    "plt.tight_layout(pad=0.2)\n",
    "# plt.savefig(f\"figures/svg/simulation-2D/magnetic-field-directions/temperature_{species}-vs-time.svg\", bbox_inches=\"tight\")\n",
    "plt.show()"
   ]
  },
  {
   "cell_type": "markdown",
   "metadata": {},
   "source": [
    "# Simulation 1D"
   ]
  },
  {
   "cell_type": "markdown",
   "metadata": {},
   "source": [
    "## Density variation"
   ]
  },
  {
   "cell_type": "code",
   "execution_count": null,
   "metadata": {},
   "outputs": [],
   "source": [
    "for filename in sorted(DENSITY_VARIATION_FOLDER.glob(\"*.h5\")):\n",
    "    plots_1D.electricFieldDensityRatio(filename, True)\n",
    "    break"
   ]
  },
  {
   "cell_type": "code",
   "execution_count": null,
   "metadata": {},
   "outputs": [],
   "source": [
    "plots_1D.growthRateDensityRatio(save=True)\n",
    "plots_1D.linearRegimeDensityRatio(save=True)\n",
    "plt.show()"
   ]
  },
  {
   "cell_type": "code",
   "execution_count": null,
   "metadata": {},
   "outputs": [],
   "source": [
    "plots_1D.frequencyVsDensityRatio(save=False)\n",
    "plots_1D.wavenumberVsDensityRatio(save=False)\n",
    "plt.show()"
   ]
  },
  {
   "cell_type": "code",
   "execution_count": null,
   "metadata": {},
   "outputs": [],
   "source": [
    "for species in Species:\n",
    "    plots_1D.heatingVsDensityRatio(species, save=True)\n",
    "plt.show()"
   ]
  },
  {
   "cell_type": "code",
   "execution_count": null,
   "metadata": {},
   "outputs": [],
   "source": [
    "plots_1D.energyFractionsDensityRatio(save=True)"
   ]
  },
  {
   "cell_type": "code",
   "execution_count": null,
   "metadata": {},
   "outputs": [],
   "source": [
    "for filename in sorted(DENSITY_VARIATION_FOLDER.glob(\"density_*.h5\")):\n",
    "    print(filename)\n",
    "    ratio = 10 ** float(filename.stem.split(\"_\")[-1])\n",
    "    info = plots_1D.runInfoForDenistyRatio(ratio)\n",
    "    plots_1D.energyEFieldOverTime(\n",
    "        filename=filename, info=info\n",
    "    )\n",
    "    plt.show()"
   ]
  },
  {
   "cell_type": "markdown",
   "metadata": {},
   "source": [
    "## Evolution of Simulation (1D - 8192) "
   ]
  },
  {
   "cell_type": "code",
   "execution_count": null,
   "metadata": {},
   "outputs": [],
   "source": [
    "for species, vlim, vticks in zip([Species.PROTON, Species.ALPHA],[(-3, 8), (-1, 7)], [[0,4,8], [0,2,4,6]]):\n",
    "    dist_type = Distribution.X_PX\n",
    "    filename = PARTICLE_VARIATION_FOLDER / \"particles_8192/rep_0.h5\"\n",
    "    time = range(0, 1500, 5)\n",
    "    general.videoEvolutionDistributionFunction(\n",
    "        info, species, filename, dist_type, time,\n",
    "        vlim=vlim, vticks=vticks, save=True\n",
    "    )\n",
    "plt.show()"
   ]
  },
  {
   "cell_type": "code",
   "execution_count": null,
   "metadata": {},
   "outputs": [],
   "source": [
    "times = [0.0, 50.0, 150.0]\n",
    "for species, y_bot, x_lim, loc in zip(\n",
    "    Species,\n",
    "    [1e-4, 2e-1, 1e-1],\n",
    "    [(-4, 4), (-4, 10), (-1, 8)],\n",
    "    [(0.22, 0.05), (0.42, 0.67), (0.3, 0.04)]\n",
    "):\n",
    "    # if species == Species.ELECTRON: continue\n",
    "    general.momentumDistributionComparison(\n",
    "        info, species, Distribution.X_PX,\n",
    "        PARTICLE_VARIATION_FOLDER / \"particles_8192/rep_0.h5\",\n",
    "        times, legend_loc=loc, legend_title=\"\",\n",
    "        labels=[f\"$t\\\\,\\\\omega_\\\\text{{pp}}={int(t)}$\" for t in times],\n",
    "        y_lim=(y_bot, 1e3 if species == Species.PROTON else None),\n",
    "        x_lim=x_lim,\n",
    "        x_ticks=[-4,0,4,8] if species == Species.PROTON else None,\n",
    "        save=True,\n",
    "        save_folder=\"simulation-1D\",\n",
    "    )\n",
    "plt.show()"
   ]
  },
  {
   "cell_type": "code",
   "execution_count": null,
   "metadata": {},
   "outputs": [],
   "source": [
    "for idx, (species, v_lim, v_ticks) in enumerate(zip(\n",
    "    [Species.PROTON, Species.ALPHA],\n",
    "    [(-4, 10), (-1, 8)],\n",
    "    [np.linspace(-4, 8, 4), np.linspace(0, 8, 3)],\n",
    ")):\n",
    "    general.spaceVelocityDistributionMulti(\n",
    "        info, species, Distribution.X_PX,\n",
    "        PARTICLE_VARIATION_FOLDER / \"particles_8192/rep_0.h5\",\n",
    "        times=[0.0, 60.0, 150.0],\n",
    "        v_lim=v_lim,\n",
    "        v_ticks=v_ticks,\n",
    "        subfig_offset=idx * 3,\n",
    "        save=True,\n",
    "        save_folder=\"simulation-1D\"\n",
    "    )"
   ]
  },
  {
   "cell_type": "code",
   "execution_count": null,
   "metadata": {},
   "outputs": [],
   "source": [
    "plots_1D.eFieldEvolutionCombined(\n",
    "    filename=PARTICLE_VARIATION_FOLDER / \"particles_8192/rep_0.h5\",\n",
    "    info=info, save=True\n",
    ")"
   ]
  },
  {
   "cell_type": "code",
   "execution_count": null,
   "metadata": {},
   "outputs": [],
   "source": [
    "plots_1D.electricFieldOverSpaceAndTime(\n",
    "    filename=PARTICLE_VARIATION_FOLDER / \"particles_8192/rep_0.h5\",\n",
    "    info=info, save=True\n",
    ")\n",
    "plt.show()"
   ]
  },
  {
   "cell_type": "code",
   "execution_count": null,
   "metadata": {},
   "outputs": [],
   "source": [
    "plots_1D.energyEFieldOverTime(\n",
    "    filename=PARTICLE_VARIATION_FOLDER / \"particles_8192/rep_0.h5\",\n",
    "    info=info, save=True, show_fit_details=False\n",
    ")\n",
    "plt.show()"
   ]
  },
  {
   "cell_type": "code",
   "execution_count": null,
   "metadata": {},
   "outputs": [],
   "source": [
    "species = Species.ELECTRON\n",
    "with h5py.File(PARTICLE_VARIATION_FOLDER / \"particles_8192/rep_0.h5\") as f:\n",
    "    time = f[\"Header/time\"][:]\n",
    "    dist = np.mean(f[f\"/dist_fn/x_px/{species.value}\"], axis=1)\n",
    "    x_grid = f[f\"Grid/x_px/{species.value}/X\"][:]\n",
    "    px_grid = f[f\"Grid/x_px/{species.value}/Px\"][:]\n",
    "\n",
    "def mean_h(val, freq):\n",
    "    return np.sum(val * freq, axis=1) / np.sum(freq, axis=1)\n",
    "\n",
    "def var_h(val, freq):\n",
    "    dev = freq * (val - mean_h(val, freq)[:,None]) ** 2\n",
    "    return np.sum(dev, axis=1) / np.sum(freq, axis=1)\n",
    "mean = mean_h(px_grid, dist)\n",
    "var = var_h(px_grid, dist)\n",
    "plt.plot(mean / info[species].si_mass / info[species].v_thermal)\n",
    "print((mean[-1] - mean[0])/ info[species].si_mass / info[species].v_thermal)\n",
    "# cdf = np.cumsum(dist, axis=1) / np.sum(dist, axis=1)[:,None]\n",
    "# from scipy import special\n",
    "# cdf_norm = 0.5 * (1 + special.erf((px_grid - mean[:,None]) / np.sqrt(2 * var[:,None])))\n",
    "\n",
    "# pdf = dist / np.sum(dist * (px_grid[:,1] - px_grid[:,0])[:,None], axis=1)[:,None]\n",
    "# pdf_norm = np.exp(- (px_grid - mean[:,None]) ** 2 / (2 * var[:,None])) / np.sqrt(2 * np.pi * var[:,None])\n",
    "# pdf_norm /= np.sum(pdf_norm * (px_grid[:,1] - px_grid[:,0])[:,None], axis=1)[:,None]\n",
    "# plt.plot(pdf_norm[0])\n",
    "# plt.plot(pdf[0])\n",
    "# res = stats.chisquare(pdf, pdf_norm, ddof = 2, axis=1)\n",
    "# print(res)\n",
    "# Dn = np.max(np.abs(cdf - cdf_norm), axis=1)\n",
    "# Kn = np.sqrt(cdf.shape[1]) * Dn\n",
    "# plt.plot(special.kolmogorov(Kn))\n",
    "# plt.plot(stats.distributions.ksone.sf(Dn, cdf.shape[1]))\n",
    "# plt.plot(Dn)\n",
    "# plt.yscale(\"log\")"
   ]
  },
  {
   "cell_type": "code",
   "execution_count": null,
   "metadata": {},
   "outputs": [],
   "source": [
    "for species in Species:\n",
    "    plots_1D.avgTemperatureXOverTime(\n",
    "        filename=PARTICLE_VARIATION_FOLDER / \"particles_8192/rep_0.h5\",\n",
    "        info=info, species=species, save=True\n",
    "    )\n",
    "plt.show()"
   ]
  },
  {
   "cell_type": "code",
   "execution_count": null,
   "metadata": {},
   "outputs": [],
   "source": [
    "plots_1D.velocityDistributionOverTimeCombined(\n",
    "    PARTICLE_VARIATION_FOLDER / \"particles_8192/rep_0.h5\",\n",
    "    info,\n",
    "    times=[0.0, 150.0],\n",
    "    v_lim_arr=[(-4, 4), (-4, 10), (-1, 8)],\n",
    "    v_tick_arr=[[-3,0,3], [-3,0,3,6,9], [0,4,8]],\n",
    "    save=False,\n",
    ")"
   ]
  },
  {
   "cell_type": "code",
   "execution_count": null,
   "metadata": {},
   "outputs": [],
   "source": [
    "plt.rcParams[\"figure.dpi\"] = 200\n",
    "plots_1D.energyEFieldOverTime(\n",
    "    filename=V_FLOW_VARIATION_FOLDER / \"v_alpha_bulk_100.h5\",\n",
    "    info=info, save=False\n",
    ")\n",
    "plt.show()"
   ]
  },
  {
   "cell_type": "code",
   "execution_count": null,
   "metadata": {},
   "outputs": [],
   "source": [
    "plots_1D.linearTheoryWaveProperties(info, save=True)"
   ]
  },
  {
   "cell_type": "code",
   "execution_count": null,
   "metadata": {},
   "outputs": [],
   "source": [
    "print(np.sqrt(2 * np.abs(info.proton.si_charge) * 1 * (2 * np.pi * info.lambda_D / 0.7) / info.proton.si_mass) / info.proton.v_thermal)"
   ]
  },
  {
   "cell_type": "code",
   "execution_count": null,
   "metadata": {},
   "outputs": [],
   "source": [
    "u_alpha = 100_000\n",
    "v_phase = u_alpha - np.sqrt(3/2) * info.alpha.v_thermal\n",
    "df_alpha = - 2 * ((v_phase - u_alpha) / info.alpha.v_thermal ** 2) * (info.alpha.v_thermal / np.pi) ** (3/2) * np.exp(- ((v_phase - u_alpha) / info.alpha.v_thermal) ** 2)\n",
    "df_elec = - 10 * 2 * (v_phase / info.electron.v_thermal ** 2) * (info.electron.v_thermal / np.pi) ** (3/2) * np.exp(- (v_phase / info.electron.v_thermal) ** 2)\n",
    "df_prot = - 2 * 2 * (v_phase / info.proton.v_thermal ** 2) * (info.proton.v_thermal / np.pi) ** (3/2) * np.exp(- (v_phase / info.proton.v_thermal) ** 2)\n",
    "print(df_elec / df_alpha, df_prot / df_alpha)"
   ]
  },
  {
   "cell_type": "code",
   "execution_count": null,
   "metadata": {},
   "outputs": [],
   "source": [
    "plots_1D.illustrateSimulationGrid(save=True)\n",
    "plots_1D.illustrateVelocitySpace(info, u_alpha=None, save=True)\n",
    "plots_1D.illustrateVelocitySpace(info, u_alpha=120, save=True)\n",
    "plt.show()"
   ]
  },
  {
   "cell_type": "markdown",
   "metadata": {},
   "source": [
    "## Particle variation"
   ]
  },
  {
   "cell_type": "code",
   "execution_count": null,
   "metadata": {},
   "outputs": [],
   "source": [
    "plots_1D.particleVariationEnergyVsTime(info=info, save=False)\n",
    "plt.show()"
   ]
  },
  {
   "cell_type": "code",
   "execution_count": null,
   "metadata": {},
   "outputs": [],
   "source": [
    "for species in Species:\n",
    "    plots_1D.particleVariationTemperature3D(species, save=save)\n",
    "plt.show()"
   ]
  },
  {
   "cell_type": "code",
   "execution_count": null,
   "metadata": {},
   "outputs": [],
   "source": [
    "for species in Species:\n",
    "    plots_1D.particleVariationTemperatureXDiff(info, species, save=True)\n",
    "plt.show()"
   ]
  },
  {
   "cell_type": "code",
   "execution_count": null,
   "metadata": {},
   "outputs": [],
   "source": [
    "for species in Species:\n",
    "    plots_1D.particleVariationTemperatureXVsTime(info, species, save=save)\n",
    "plt.show()"
   ]
  },
  {
   "cell_type": "code",
   "execution_count": null,
   "metadata": {},
   "outputs": [],
   "source": [
    "plots_1D.particleVariationGrowthRate(info, save=True)\n",
    "plt.show()"
   ]
  },
  {
   "cell_type": "code",
   "execution_count": null,
   "metadata": {},
   "outputs": [],
   "source": [
    "plots_1D.particleVariationWavenumber(info=info, save=True)\n",
    "plots_1D.particleVariationFrequency(info=info, save=True)\n",
    "plt.show()"
   ]
  },
  {
   "cell_type": "code",
   "execution_count": null,
   "metadata": {},
   "outputs": [],
   "source": [
    "with h5py.File(THEORY_U_ALPHA_FILE) as f:\n",
    "    print(f.keys())\n",
    "    print(np.diff(f['search_space/theta']))\n",
    "    u_alpha = f['u_alpha_bulk'][:]\n",
    "    idx = np.argmin(np.abs(u_alpha - 100_000))\n",
    "    k_max = f['k_max'][idx] * info.lambda_D\n",
    "    theta_max = f['theta_max'][idx]\n",
    "    print(k_max * (np.cos(theta_max - 0.00349066) - np.cos(theta_max + 0.00349066 )))"
   ]
  }
 ],
 "metadata": {
  "kernelspec": {
   "display_name": "analysis",
   "language": "python",
   "name": "python3"
  },
  "language_info": {
   "codemirror_mode": {
    "name": "ipython",
    "version": 3
   },
   "file_extension": ".py",
   "mimetype": "text/x-python",
   "name": "python",
   "nbconvert_exporter": "python",
   "pygments_lexer": "ipython3",
   "version": "3.13.2"
  }
 },
 "nbformat": 4,
 "nbformat_minor": 2
}
