{
 "cells": [
  {
   "cell_type": "code",
   "execution_count": null,
   "metadata": {},
   "outputs": [],
   "source": [
    "%load_ext autoreload\n",
    "%autoreload 2\n",
    "import math\n",
    "from pathlib import Path\n",
    "\n",
    "import h5py as h5\n",
    "import numpy as np\n",
    "from scipy import constants, signal, stats, optimize\n",
    "import matplotlib\n",
    "import matplotlib.animation as animation\n",
    "import matplotlib.pyplot as plt\n",
    "\n",
    "import physics\n",
    "import plots\n",
    "import analysis\n",
    "from definitions import (\n",
    "    RESULTS_FOLDER,\n",
    "    MPLSTYLE_FILE,\n",
    "    SpeciesInfo,\n",
    "    RunInfo,\n",
    "    Species\n",
    ")\n",
    "\n",
    "run_info = RunInfo(\n",
    "    electron=SpeciesInfo(\n",
    "        number_density=12.0e6,\n",
    "        temperature=100.0,\n",
    "        charge=-1,\n",
    "        mass=1.0,\n",
    "        bulk_velocity=0.0\n",
    "    ),\n",
    "    proton=SpeciesInfo(\n",
    "        number_density=10.0e6,\n",
    "        temperature=3.0,\n",
    "        charge=+1,\n",
    "        mass=1836.152674,\n",
    "        bulk_velocity=0.0\n",
    "    ),\n",
    "    alpha=SpeciesInfo(\n",
    "        number_density=1.0e6,\n",
    "        temperature=12.0,\n",
    "        charge=+2,\n",
    "        mass=7294.29953,\n",
    "        bulk_velocity=1.0e5\n",
    "    )\n",
    ")\n",
    "\n",
    "save=True\n",
    "plots.FIGURE_FORMAT = \"svg\""
   ]
  },
  {
   "cell_type": "code",
   "execution_count": null,
   "metadata": {},
   "outputs": [],
   "source": [
    "plots.electricFieldOverSpaceAndTime(\n",
    "    folder=RESULTS_FOLDER / \"proton-alpha-instability-1D\",\n",
    "    info=run_info, save=save\n",
    ")\n",
    "plt.show()"
   ]
  },
  {
   "cell_type": "code",
   "execution_count": null,
   "metadata": {},
   "outputs": [],
   "source": [
    "plots.averageTemperature3DOverTime(\n",
    "    folder=RESULTS_FOLDER / \"proton-alpha-instability-1D\",\n",
    "    info=run_info, save=save\n",
    ")\n",
    "plt.show()"
   ]
  },
  {
   "cell_type": "code",
   "execution_count": null,
   "metadata": {},
   "outputs": [],
   "source": [
    "for s in Species:\n",
    "    plots.velocityDistributionOverTime(\n",
    "        folder=RESULTS_FOLDER / \"proton-alpha-instability-1D\",\n",
    "        info=run_info, species=s, save=save\n",
    "    )\n",
    "plt.show()"
   ]
  },
  {
   "cell_type": "code",
   "execution_count": null,
   "metadata": {},
   "outputs": [],
   "source": [
    "plots.electricFieldEnergyOverTime(\n",
    "    folder=RESULTS_FOLDER / \"proton-alpha-instability-1D\",\n",
    "    info=run_info, save=save\n",
    ")\n",
    "plt.show()"
   ]
  },
  {
   "cell_type": "markdown",
   "metadata": {},
   "source": [
    "# Particle variation"
   ]
  },
  {
   "cell_type": "code",
   "execution_count": null,
   "metadata": {},
   "outputs": [],
   "source": [
    "variation_folder = RESULTS_FOLDER / \"particle_variation\"\n",
    "for particle_folder in sorted(variation_folder.glob(\"particles_*\")):\n",
    "    plots.multiElectricFieldEnergyOverTime(\n",
    "        particle_folder, run_info, save=save,\n",
    "        identifer=f\"particles_per_cell_{int(particle_folder.stem[-4:])}\"\n",
    "    )"
   ]
  },
  {
   "cell_type": "code",
   "execution_count": null,
   "metadata": {},
   "outputs": [],
   "source": [
    "plots.particleVariationEnergyVsTime(info=run_info, save=save)\n",
    "plt.show()"
   ]
  },
  {
   "cell_type": "code",
   "execution_count": null,
   "metadata": {},
   "outputs": [],
   "source": [
    "plots.particleVariationGrowthRate(run_info, save=save)\n",
    "plt.show()"
   ]
  },
  {
   "cell_type": "code",
   "execution_count": null,
   "metadata": {},
   "outputs": [],
   "source": [
    "for species in Species:\n",
    "    plots.particleVariationTemperature3D(species, save=save)\n",
    "plt.show()"
   ]
  },
  {
   "cell_type": "code",
   "execution_count": null,
   "metadata": {},
   "outputs": [],
   "source": [
    "for species in Species:\n",
    "    plots.particleVariationTemperatureXDiff(run_info, species, save=save)\n",
    "plt.show()"
   ]
  },
  {
   "cell_type": "code",
   "execution_count": null,
   "metadata": {},
   "outputs": [],
   "source": [
    "for species in Species:\n",
    "    plots.particleVariationTemperatureXVsTime(run_info, species, save=save)\n",
    "plt.show()"
   ]
  },
  {
   "cell_type": "code",
   "execution_count": null,
   "metadata": {},
   "outputs": [],
   "source": [
    "plots.particleVariationWavenumber(info=run_info, save=save)\n",
    "plt.show()"
   ]
  },
  {
   "cell_type": "code",
   "execution_count": null,
   "metadata": {},
   "outputs": [],
   "source": [
    "plots.particleVariationFrequency(info=run_info, save=True)\n",
    "plt.show()"
   ]
  },
  {
   "cell_type": "code",
   "execution_count": null,
   "metadata": {},
   "outputs": [],
   "source": [
    "plots.electricFieldOverSpaceAndTime(\n",
    "    folder=RESULTS_FOLDER / \"proton-alpha-instability-1D\",\n",
    "    info=run_info, save=save\n",
    ")\n",
    "plt.show()"
   ]
  },
  {
   "cell_type": "code",
   "execution_count": null,
   "metadata": {},
   "outputs": [],
   "source": [
    "plots.electricFieldOverSpaceAndTime(\n",
    "    folder=RESULTS_FOLDER / \"proton-alpha-instability-1D\",\n",
    "    info=run_info, save=save\n",
    ")\n",
    "plt.show()"
   ]
  },
  {
   "cell_type": "code",
   "execution_count": null,
   "metadata": {},
   "outputs": [],
   "source": [
    "plots.electricFieldOverSpaceAndTime(\n",
    "    folder=RESULTS_FOLDER / \"particle_variation/particles_4192/rep_0\",\n",
    "    info=run_info, save=save\n",
    ")\n",
    "plt.show()"
   ]
  },
  {
   "cell_type": "code",
   "execution_count": null,
   "metadata": {},
   "outputs": [],
   "source": [
    "time, (electric_field,), _ = analysis.readFromRun(\n",
    "    folder=RESULTS_FOLDER / \"proton-alpha-instability-1D\", #\"particle_variation/particles_4192/rep_0\",\n",
    "    dataset_names=[\"/Electric Field/ex\"]\n",
    ")"
   ]
  },
  {
   "cell_type": "code",
   "execution_count": null,
   "metadata": {},
   "outputs": [],
   "source": [
    "time_2, (electric_field_2,), _ = analysis.readFromRun(\n",
    "    folder=RESULTS_FOLDER / \"particle_variation/particles_4192/rep_1\",\n",
    "    dataset_names=[\"/Electric Field/ex\"]\n",
    ")"
   ]
  },
  {
   "cell_type": "code",
   "execution_count": null,
   "metadata": {},
   "outputs": [],
   "source": [
    "plt.plot(electric_field[-10])"
   ]
  }
 ],
 "metadata": {
  "kernelspec": {
   "display_name": "analysis",
   "language": "python",
   "name": "python3"
  },
  "language_info": {
   "codemirror_mode": {
    "name": "ipython",
    "version": 3
   },
   "file_extension": ".py",
   "mimetype": "text/x-python",
   "name": "python",
   "nbconvert_exporter": "python",
   "pygments_lexer": "ipython3",
   "version": "3.13.2"
  }
 },
 "nbformat": 4,
 "nbformat_minor": 2
}
