{
 "cells": [
  {
   "cell_type": "code",
   "execution_count": null,
   "metadata": {},
   "outputs": [],
   "source": [
    "%load_ext autoreload\n",
    "%autoreload 2\n",
    "import math\n",
    "from pathlib import Path\n",
    "\n",
    "import h5py\n",
    "import numpy as np\n",
    "from scipy import constants, signal, stats, optimize\n",
    "import matplotlib\n",
    "import matplotlib.animation as animation\n",
    "import matplotlib.pyplot as plt\n",
    "from mpl_toolkits.axes_grid1 import make_axes_locatable\n",
    "from cycler import cycler\n",
    "\n",
    "import analysis\n",
    "from basic.paths import (\n",
    "    RESULTS_FOLDER,\n",
    "    PARTICLE_VARIATION_FOLDER,\n",
    "    DENSITY_VARIATION_FOLDER,\n",
    "    V_FLOW_VARIATION_FOLDER,\n",
    "    FOLDER_1D,\n",
    "    MPLSTYLE_FILE\n",
    ")\n",
    "from basic import (\n",
    "    physics,\n",
    "    Species,\n",
    "    SpeciesInfo,\n",
    "    RunInfo\n",
    ")\n",
    "\n",
    "from plots import (\n",
    "    settings,\n",
    "    plots_1D,\n",
    "    plots_2D,\n",
    ")\n",
    "\n",
    "info = RunInfo(\n",
    "    electron=SpeciesInfo(\n",
    "        number_density=12.0e6,\n",
    "        temperature=100.0,\n",
    "        charge=-1,\n",
    "        mass=1.0,\n",
    "        bulk_velocity=0.0\n",
    "    ),\n",
    "    proton=SpeciesInfo(\n",
    "        number_density=10.0e6,\n",
    "        temperature=3.0,\n",
    "        charge=+1,\n",
    "        mass=1836.152674,\n",
    "        bulk_velocity=0.0\n",
    "    ),\n",
    "    alpha=SpeciesInfo(\n",
    "        number_density=1.0e6,\n",
    "        temperature=12.0,\n",
    "        charge=+2,\n",
    "        mass=7294.29953,\n",
    "        bulk_velocity=1.0e5\n",
    "    )\n",
    ")\n",
    "\n",
    "save=False\n",
    "plt.style.use(MPLSTYLE_FILE)\n",
    "matplotlib.rcParams['figure.dpi'] = settings.FIGURE_DPI"
   ]
  },
  {
   "cell_type": "markdown",
   "metadata": {},
   "source": [
    "# Simulation 2D"
   ]
  },
  {
   "cell_type": "markdown",
   "metadata": {},
   "source": [
    "## Alpha flow-speed variation (B=0)"
   ]
  },
  {
   "cell_type": "code",
   "execution_count": null,
   "metadata": {},
   "outputs": [],
   "source": [
    "plots_2D.maxEnergyVsAlphaFlowSpeed(info)\n",
    "plt.show()\n",
    "plots_2D.maxEnergyNormalizedVsAlphaFlowSpeed(info)\n",
    "plt.show()"
   ]
  },
  {
   "cell_type": "code",
   "execution_count": null,
   "metadata": {},
   "outputs": [],
   "source": [
    "plots_2D.waveAngleVsAlphaFlowSpeed(info, \"x\")\n",
    "plots_2D.simulatedAlphaFlowSpeed(info, \"x\")\n",
    "plt.show()"
   ]
  },
  {
   "cell_type": "markdown",
   "metadata": {},
   "source": [
    "TODO: |k| vs u-alpha"
   ]
  },
  {
   "cell_type": "code",
   "execution_count": null,
   "metadata": {},
   "outputs": [],
   "source": [
    "plots_2D.omegaVsAlphaFlowSpeed(info, \"x\")\n",
    "plots_2D.omegaVsAlphaFlowSpeed(info, \"y\")\n",
    "plt.show()"
   ]
  },
  {
   "cell_type": "code",
   "execution_count": null,
   "metadata": {},
   "outputs": [],
   "source": [
    "plots_2D.psdOmegaForAlphaFlowSpeed(info, \"x\")\n",
    "plots_2D.psdOmegaForAlphaFlowSpeed(info, \"y\")\n",
    "plt.show()"
   ]
  },
  {
   "cell_type": "code",
   "execution_count": null,
   "metadata": {},
   "outputs": [],
   "source": [
    "for species in Species:\n",
    "    plots_2D.temperature3DOverTimeForAlphaFlowSpeed(\n",
    "        info, species\n",
    "    )"
   ]
  },
  {
   "cell_type": "code",
   "execution_count": null,
   "metadata": {},
   "outputs": [],
   "source": [
    "for species in Species:\n",
    "    plots_2D.temperatureDifferences3DVsAlphaFlowSpeed(info, species)\n",
    "plt.show()"
   ]
  },
  {
   "cell_type": "code",
   "execution_count": null,
   "metadata": {},
   "outputs": [],
   "source": [
    "for data_file in sorted(V_FLOW_VARIATION_FOLDER.glob(\"*.h5\")):\n",
    "    plots_2D.electricField2DSnapshot(data_file, info, time=50.0)\n",
    "    plt.show()"
   ]
  },
  {
   "cell_type": "code",
   "execution_count": null,
   "metadata": {},
   "outputs": [],
   "source": [
    "for data_file in sorted(V_FLOW_VARIATION_FOLDER.glob(\"*.h5\")):\n",
    "    plots_2D.energyEFieldOverTime(data_file, info)\n",
    "    plt.show()"
   ]
  },
  {
   "cell_type": "code",
   "execution_count": null,
   "metadata": {},
   "outputs": [],
   "source": [
    "for data_file in sorted(V_FLOW_VARIATION_FOLDER.glob(\"*.h5\")):\n",
    "    plots_2D.strengthBFieldOverTime(data_file, info)\n",
    "    plots_2D.psdBField(data_file, info)\n",
    "    plots_2D.energyBField(data_file, info)\n",
    "    plt.show()"
   ]
  },
  {
   "cell_type": "code",
   "execution_count": null,
   "metadata": {},
   "outputs": [],
   "source": [
    "for species in Species:\n",
    "    plots_2D.psdFlowVelocity(info, species, \"x\", \"x\")\n",
    "    plt.show()"
   ]
  },
  {
   "cell_type": "code",
   "execution_count": null,
   "metadata": {},
   "outputs": [],
   "source": [
    "for species in Species:\n",
    "    plots_2D.flowVelocityVsTime(info, species, \"x\", \"x\")\n",
    "    plt.show()"
   ]
  },
  {
   "cell_type": "code",
   "execution_count": null,
   "metadata": {},
   "outputs": [],
   "source": [
    "\n",
    "for data_file in sorted(V_FLOW_VARIATION_FOLDER.glob(\"*.h5\")):\n",
    "    plt.figure()\n",
    "    for species in Species:\n",
    "        u_alpha = int(data_file.stem[-3:])\n",
    "        with h5py.File(data_file) as f:\n",
    "            time = f[\"Header/time\"][:] * info.omega_pp\n",
    "            x_grid = f[f\"Grid/x_px/{species.value}/X\"][:]\n",
    "            px_grid = f[f\"Grid/x_px/{species.value}/Px\"][:]\n",
    "            py_grid = f[f\"Grid/x_py/{species.value}/Py\"][:]\n",
    "            dist_x_px = f[f'dist_fn/x_px/{species.value}'][:]\n",
    "            dist_x_py = f[f\"dist_fn/x_py/{species.value}\"][:]\n",
    "            T = f[f\"Derived/Temperature/{species.value}\"][:]\n",
    "        u_x = analysis.flowVelocity1D(x_grid, px_grid, dist_x_px, info[species])\n",
    "        u_y = analysis.flowVelocity1D(x_grid, py_grid, dist_x_py, info[species])\n",
    "        K = 0.5 * info[species].si_mass * np.mean(u_x ** 2 + u_y ** 2, axis=1) / constants.electron_volt\n",
    "        U = 3 / 2 * physics.kelvinToElectronVolt(np.mean(T, axis=(1,2)))\n",
    "        W_species = info[species].number_density * (K + U)\n",
    "        plt.plot(time, (W_species - W_species[0]) * 1e-6, label=f\"$W_{{{species.symbol()}}}$\")\n",
    "    with h5py.File(data_file) as f:\n",
    "        time = f[\"Header/time\"][:] * info.omega_pp\n",
    "        E_x = f['Electric Field/ex'][:]\n",
    "        E_y = f['Electric Field/ey'][:]\n",
    "    W_E = np.mean(E_x ** 2 + E_y ** 2, axis=(1,2)) * (constants.epsilon_0 / 2) / constants.electron_volt\n",
    "    plt.plot(time[1:], (W_E[1:] - W_E[1]) * 1e-6, label=\"$W_E$\")\n",
    "    # plt.yscale(\"log\")\n",
    "    plt.xlabel(\"Time $t\\\\,\\\\omega_{pp}$ (1)\")\n",
    "    plt.ylabel(\"Energy density W (MeV$\\\\,/\\\\,$m$^3$)\")\n",
    "    plt.legend()\n",
    "    plt.show()"
   ]
  },
  {
   "cell_type": "markdown",
   "metadata": {},
   "source": [
    "# Videos of distribution"
   ]
  },
  {
   "cell_type": "code",
   "execution_count": null,
   "metadata": {},
   "outputs": [],
   "source": [
    "# from scipy import ndimage\n",
    "data_file = RESULTS_FOLDER / \"epoch_2D/v_alpha_bulk_variation/v_alpha_bulk_106.h5\"\n",
    "with h5py.File(data_file) as f:\n",
    "    time = f[\"Header/time\"][:] * info.omega_pp\n",
    "    x_grid = f[\"Grid/grid/X\"][:]\n",
    "    y_grid = f[\"Grid/grid/Y\"][:]\n",
    "    px_grid = f[\"Grid/px_py/Protons/Px\"][:]\n",
    "    py_grid = f[\"Grid/px_py/Protons/Py\"][:]\n",
    "    dist_p_grid = f['dist_fn/px_py/Protons'][:]\n",
    "    print(f['dist_fn/px_py/Protons'].attrs[\"units\"])\n",
    "# plt.imshow(full_dist.T, norm=\"log\")\n",
    "# plt.colorbar()\n",
    "# plt.contour(ndimage.gaussian_filter(full_dist.T, sigma=4.0, order=0), levels=10 ** np.linspace(5.5, 7.8, 4), colors=\"black\", linewidths=2, linestyles=\":\")\n",
    "# plt.show()\n",
    "v_x = px_grid / (info.proton.mass * constants.electron_mass)\n",
    "v_y = py_grid / (info.proton.mass * constants.electron_mass)\n",
    "dv_x = v_x[1] - v_x[0]\n",
    "dv_y = v_y[1] - v_y[0]\n",
    "length_x = abs(x_grid[-1] - x_grid[0])\n",
    "length_y = abs(y_grid[-1] - y_grid[0])\n",
    "f = dist_p_grid / (dv_x * dv_y * length_x * length_y) # s^2/m^4"
   ]
  },
  {
   "cell_type": "code",
   "execution_count": null,
   "metadata": {},
   "outputs": [],
   "source": [
    "dist = np.trapezoid(y=f, x=v_y, axis=2)\n",
    "fig = plt.figure()\n",
    "line = plt.plot(v_x * 1e-3, dist[-1], color=\"black\", lw=3)[0]\n",
    "text = plt.text(0.72, 0.9, s=f\"t$\\\\,=\\\\,${time[0]:>5.1f}\", transform=plt.gca().transAxes)\n",
    "plt.yscale(\"log\")\n",
    "plt.xlabel(\"Velocity $v_{\\\\alpha,x}$ (km/s)\")\n",
    "plt.ylabel(\"$\\\\langle f_\\\\alpha\\\\rangle_\\\\mathbf{x}$ (s/m$^3$)\")\n",
    "# plt.xlim(0, 400)\n",
    "# plt.xlim(-100, 100)\n",
    "# plt.xlim(0, 300)\n",
    "# plt.ylim(1e-3, 4e1)\n",
    "\n",
    "def update(frame_idx):\n",
    "    line.set_ydata(dist[2 * frame_idx])\n",
    "    text.set_text(f\"t$\\\\,\\\\omega_{{pp}}\\\\,=\\\\,${time[2 * frame_idx]:>5.1f}\")\n",
    "    return (line, text,)\n",
    "\n",
    "# ani = animation.FuncAnimation(fig=fig, func=update, frames=range(150, 500))\n",
    "# ani.save(filename=\"figures/distribution_vx_alpha=180.mp4\", writer=\"ffmpeg\", fps=60)\n",
    "plt.show()"
   ]
  },
  {
   "cell_type": "code",
   "execution_count": null,
   "metadata": {},
   "outputs": [],
   "source": [
    "dist = dist_p_grid / (dx * dy)\n",
    "dist[dist <= 0] = np.min(dist[dist>0])\n",
    "vx_bounds = np.min(v_x) + np.arange(v_x.size + 1) * dv_x - dv_x / 2\n",
    "vy_bounds = np.min(v_y) + np.arange(v_y.size + 1) * dv_y - dv_y / 2\n",
    "fig = plt.figure()\n",
    "# plt.imshow(dist[0].T)\n",
    "quad = plt.pcolormesh(vx_bounds * 1e-3, vy_bounds * 1e-3, dist[0].T, norm=\"log\")\n",
    "plt.colorbar(label=\"# particles / meter (1/m$^2$)\")\n",
    "text = plt.text(130, 80, s=f\"t$\\\\,\\\\omega_{{pp}}\\\\,=\\\\,${time[0]:>5.1f}\")\n",
    "plt.xlabel(\"Velocity $v_{\\\\alpha,x}$ (km/s)\")\n",
    "plt.ylabel(\"Velocity $v_{\\\\alpha,y}$ (km/s)\")\n",
    "plt.xlim(0, 200)\n",
    "plt.ylim(-100, 100)\n",
    "plt.yticks(np.linspace(-100, 100, 5))\n",
    "# plt.ylim(1e6, 5e9)\n",
    "\n",
    "def update(frame_idx):\n",
    "    quad.set_array(dist[2 * frame_idx].T)\n",
    "    text.set_text(f\"t$\\\\,\\\\omega_{{pp}}\\\\,=\\\\,${time[2 * frame_idx]:>5.1f}\")\n",
    "    return (quad, text,)\n",
    "\n",
    "ani = animation.FuncAnimation(fig=fig, func=update, frames=range(150, 500))\n",
    "ani.save(filename=\"figures/distribution_vx_vy_alpha.mp4\", writer=\"ffmpeg\", fps=60)\n",
    "plt.show()"
   ]
  },
  {
   "cell_type": "markdown",
   "metadata": {},
   "source": [
    "# Simulation 1D"
   ]
  },
  {
   "cell_type": "markdown",
   "metadata": {},
   "source": [
    "## Density variation"
   ]
  },
  {
   "cell_type": "code",
   "execution_count": null,
   "metadata": {},
   "outputs": [],
   "source": [
    "for filename in sorted(DENSITY_VARIATION_FOLDER.glob(\"density_*.h5\")):\n",
    "    print(filename)\n",
    "    ratio = 10 ** float(filename.stem.split(\"_\")[-1])\n",
    "    n_electron = 12e6\n",
    "    n_proton = n_electron / (1 + 2 * ratio)\n",
    "    n_alpha = ratio * n_proton\n",
    "    info = RunInfo(\n",
    "        electron=SpeciesInfo(\n",
    "            number_density=12.0e6,\n",
    "            temperature=100.0,\n",
    "            charge=-1,\n",
    "            mass=1.0,\n",
    "            bulk_velocity=0.0\n",
    "        ),\n",
    "        proton=SpeciesInfo(\n",
    "            number_density=n_proton,\n",
    "            temperature=3.0,\n",
    "            charge=+1,\n",
    "            mass=1836.152674,\n",
    "            bulk_velocity=0.0\n",
    "        ),\n",
    "        alpha=SpeciesInfo(\n",
    "            number_density=n_alpha,\n",
    "            temperature=12.0,\n",
    "            charge=+2,\n",
    "            mass=7294.29953,\n",
    "            bulk_velocity=1.0e5\n",
    "        )\n",
    "    )\n",
    "    plots_1D.energyEFieldOverTime(\n",
    "        data_file=filename, info=info\n",
    "    )\n",
    "    plt.show()"
   ]
  },
  {
   "cell_type": "markdown",
   "metadata": {},
   "source": [
    "## Run n=8192"
   ]
  },
  {
   "cell_type": "code",
   "execution_count": null,
   "metadata": {},
   "outputs": [],
   "source": [
    "plots_1D.electricFieldOverSpaceAndTime(\n",
    "    data_file=FOLDER_1D / \"proton-alpha-instability-1D.h5\",\n",
    "    info=info, save=False\n",
    ")\n",
    "plt.show()"
   ]
  },
  {
   "cell_type": "code",
   "execution_count": null,
   "metadata": {},
   "outputs": [],
   "source": [
    "plots_1D.averageTemperature3DOverTime(\n",
    "    data_file=FOLDER_1D / \"proton-alpha-instability-1D.h5\",\n",
    "    info=info, save=save\n",
    ")\n",
    "plt.show()"
   ]
  },
  {
   "cell_type": "code",
   "execution_count": null,
   "metadata": {},
   "outputs": [],
   "source": [
    "for s in Species:\n",
    "    plots_1D.velocityDistributionOverTime(\n",
    "        data_file=FOLDER_1D / \"proton-alpha-instability-1D.h5\",\n",
    "        info=info, species=s, save=save\n",
    "    )\n",
    "plt.show()"
   ]
  },
  {
   "cell_type": "code",
   "execution_count": null,
   "metadata": {},
   "outputs": [],
   "source": [
    "plots_1D.energyEFieldOverTime(\n",
    "    data_file=FOLDER_1D / \"proton-alpha-instability-1D.h5\",\n",
    "    info=info, save=save\n",
    ")\n",
    "plt.show()"
   ]
  },
  {
   "cell_type": "markdown",
   "metadata": {},
   "source": [
    "## Particle variation"
   ]
  },
  {
   "cell_type": "code",
   "execution_count": null,
   "metadata": {},
   "outputs": [],
   "source": [
    "variation_folder = PARTICLE_VARIATION_FOLDER\n",
    "for particle_folder in sorted(variation_folder.glob(\"particles_*\")):\n",
    "    plots_1D.multiElectricFieldEnergyOverTime(\n",
    "        particle_folder, info, save=save,\n",
    "        identifer=f\"particles_per_cell_{int(particle_folder.stem[-4:])}\"\n",
    "    )"
   ]
  },
  {
   "cell_type": "code",
   "execution_count": null,
   "metadata": {},
   "outputs": [],
   "source": [
    "plots_1D.particleVariationEnergyVsTime(info=info, save=save)\n",
    "plt.show()"
   ]
  },
  {
   "cell_type": "code",
   "execution_count": null,
   "metadata": {},
   "outputs": [],
   "source": [
    "plots_1D.particleVariationGrowthRate(info, save=save)\n",
    "plt.show()"
   ]
  },
  {
   "cell_type": "code",
   "execution_count": null,
   "metadata": {},
   "outputs": [],
   "source": [
    "for species in Species:\n",
    "    plots_1D.particleVariationTemperature3D(species, save=save)\n",
    "plt.show()"
   ]
  },
  {
   "cell_type": "code",
   "execution_count": null,
   "metadata": {},
   "outputs": [],
   "source": [
    "for species in Species:\n",
    "    plots_1D.particleVariationTemperatureXDiff(info, species, save=save)\n",
    "plt.show()"
   ]
  },
  {
   "cell_type": "code",
   "execution_count": null,
   "metadata": {},
   "outputs": [],
   "source": [
    "for species in Species:\n",
    "    plots_1D.particleVariationTemperatureXVsTime(info, species, save=save)\n",
    "plt.show()"
   ]
  },
  {
   "cell_type": "code",
   "execution_count": null,
   "metadata": {},
   "outputs": [],
   "source": [
    "plots_1D.particleVariationWavenumber(info=info, save=save)\n",
    "plt.show()"
   ]
  },
  {
   "cell_type": "code",
   "execution_count": null,
   "metadata": {},
   "outputs": [],
   "source": [
    "plots_1D.particleVariationFrequency(info=info, save=False)\n",
    "plt.show()"
   ]
  }
 ],
 "metadata": {
  "kernelspec": {
   "display_name": "analysis",
   "language": "python",
   "name": "python3"
  },
  "language_info": {
   "codemirror_mode": {
    "name": "ipython",
    "version": 3
   },
   "file_extension": ".py",
   "mimetype": "text/x-python",
   "name": "python",
   "nbconvert_exporter": "python",
   "pygments_lexer": "ipython3",
   "version": "3.13.2"
  }
 },
 "nbformat": 4,
 "nbformat_minor": 2
}
