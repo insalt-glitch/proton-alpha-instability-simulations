{
 "cells": [
  {
   "cell_type": "code",
   "execution_count": 1,
   "metadata": {},
   "outputs": [],
   "source": [
    "%load_ext autoreload\n",
    "%autoreload 2\n",
    "import math\n",
    "from pathlib import Path\n",
    "\n",
    "import h5py\n",
    "import numpy as np\n",
    "from scipy import constants, signal, stats, optimize, integrate, io\n",
    "from functools import partial\n",
    "import matplotlib\n",
    "import matplotlib.animation as animation\n",
    "import matplotlib.pyplot as plt\n",
    "from mpl_toolkits.axes_grid1 import make_axes_locatable\n",
    "from cycler import cycler\n",
    "\n",
    "import analysis\n",
    "from basic.paths import (\n",
    "    RESULTS_FOLDER,\n",
    "    PARTICLE_VARIATION_FOLDER,\n",
    "    DENSITY_VARIATION_FOLDER,\n",
    "    V_FLOW_VARIATION_FOLDER,\n",
    "    FOLDER_1D,\n",
    "    FOLDER_2D,\n",
    "    MPLSTYLE_FILE\n",
    ")\n",
    "from basic import (\n",
    "    physics,\n",
    "    Species,\n",
    "    SpeciesInfo,\n",
    "    RunInfo,\n",
    "    Distribution\n",
    ")\n",
    "\n",
    "from plots import (\n",
    "    settings,\n",
    "    plots_1D,\n",
    "    plots_2D,\n",
    "    general,\n",
    ")\n",
    "from plots.settings import FIGURE_FULL_SIZE, FIGURE_HALF_SIZE\n",
    "\n",
    "info = RunInfo(\n",
    "    electron=SpeciesInfo(\n",
    "        number_density=12.0e6,\n",
    "        temperature=100.0,\n",
    "        charge=-1,\n",
    "        mass=1.0,\n",
    "        bulk_velocity=0.0\n",
    "    ),\n",
    "    proton=SpeciesInfo(\n",
    "        number_density=10.0e6,\n",
    "        temperature=3.0,\n",
    "        charge=+1,\n",
    "        mass=1836.152674,\n",
    "        bulk_velocity=0.0\n",
    "    ),\n",
    "    alpha=SpeciesInfo(\n",
    "        number_density=1.0e6,\n",
    "        temperature=12.0,\n",
    "        charge=+2,\n",
    "        mass=7294.29953,\n",
    "        bulk_velocity=1.0e5\n",
    "    )\n",
    ")\n",
    "\n",
    "save=False\n",
    "plt.style.use(MPLSTYLE_FILE)\n",
    "matplotlib.rcParams['figure.dpi'] = 100"
   ]
  },
  {
   "cell_type": "code",
   "execution_count": null,
   "metadata": {},
   "outputs": [],
   "source": [
    "print(f\"{(info.electron.number_density + info.proton.number_density + info.alpha.number_density) * (64 * info.lambda_D) ** 2:.4e}\")\n"
   ]
  },
  {
   "cell_type": "code",
   "execution_count": null,
   "metadata": {},
   "outputs": [],
   "source": [
    "plots_1D.illustrateSimulationGrid(save=True)\n",
    "plt.show()"
   ]
  },
  {
   "cell_type": "code",
   "execution_count": null,
   "metadata": {},
   "outputs": [],
   "source": [
    "from scipy import special, integrate\n",
    "def distr_integral(u_alpha, w, m, T):\n",
    "    c_s = info.c_s\n",
    "    k = constants.k\n",
    "    if u_alpha < c_s:\n",
    "        theta = 0\n",
    "    else:\n",
    "        theta = np.arccos(c_s / u_alpha)\n",
    "    if theta < 1e-15:\n",
    "        integral_band = special.erf(w * np.sqrt(m / (8 * k * T)))\n",
    "        return integral_band\n",
    "    f_geom = w / np.sin(theta)\n",
    "    e_geom = w / np.cos(theta)\n",
    "\n",
    "    integral_band = special.erf(w * np.sqrt(m / (8 * k * T)))\n",
    "    integral_triangle, _ = integrate.quad(\n",
    "        func=lambda v_x: np.exp(- m * v_x ** 2 / (2 * k * T)) * \\\n",
    "        special.erf((f_geom * (e_geom - 2 * v_x)) / (np.sqrt(8 * k * T / m) * e_geom)) / \\\n",
    "        np.sqrt(8 * np.pi * k * T / m),\n",
    "        a=0, b=e_geom / 2\n",
    "    )\n",
    "    return 2 * integral_band - 4 * integral_triangle\n",
    "wave_length = 0.5 * 2 * np.pi * info.lambda_D / 0.7\n",
    "E_field = 0.8\n",
    "interaction_width = np.sqrt(\n",
    "    2 * constants.elementary_charge * E_field * wave_length / info.proton.si_mass\n",
    ")\n",
    "x = np.linspace(1e5, 2e5, num=1000)\n",
    "y = np.array([\n",
    "    distr_integral(u_alpha, w=interaction_width, m=info.alpha.si_mass, T=info.alpha.si_temperature) for u_alpha in x\n",
    "])\n",
    "plt.plot(x * 1e-3, y)\n",
    "plt.xlabel(\"Initial flow velocity $u_\\\\alpha$ (km$\\\\,/\\\\,$s)\")\n",
    "plt.show()"
   ]
  },
  {
   "cell_type": "code",
   "execution_count": null,
   "metadata": {},
   "outputs": [],
   "source": [
    "def distributionFunction1D(v: float, u: float, n: float, T: float, m: float) -> float:\n",
    "    from scipy.constants import pi, k\n",
    "    return np.sqrt(n * m / (2 * pi * k * T)) * np.exp(- m * (v - u) ** 2 / (2 * k * T))\n",
    "\n",
    "def beamParameterization(\n",
    "    s: float, t: float, theta: float, omega: float, k: float\n",
    ") -> tuple[float,float,float]:\n",
    "    v_x = omega / k * ((1 + t) * np.cos(theta) + s * np.sin(theta))\n",
    "    v_y = omega / k * ((1 + t) * np.sin(theta) - s * np.cos(theta))\n",
    "    sqrt_g = omega / k\n",
    "    return sqrt_g, v_x, v_y\n",
    "\n",
    "def energyIntegrant(\n",
    "    s: float, t: float, m: float, theta: float, omega: float, k: float,\n",
    ") -> float:\n",
    "    sqrt_g, v_x, v_y = beamParameterization(s, t, theta, omega, k)\n",
    "    return sqrt_g * (m / 2) * (v_x ** 2 + v_y ** 2)\n",
    "\n",
    "def waveIntegrant(s: float, t: float,\n",
    "    theta: float, omega: float, k: float,\n",
    "    u_x: float, n: float, T: float, m: float,\n",
    "):\n",
    "    sqrt_g, v_x, v_y = beamParameterization(s, t, theta, omega, k)\n",
    "    return sqrt_g * (\n",
    "        distributionFunction1D(v_x, u_x, n, T, m) *\n",
    "        distributionFunction1D(v_y, 0.0, n, T, m)\n",
    "    )\n",
    "\n",
    "def waveEnergyIntegrant(\n",
    "    s: float, t: float,\n",
    "    theta: float, omega: float, k: float,\n",
    "    u_x: float, n: float, T: float, m: float,\n",
    ") -> float:\n",
    "    sqrt_g, v_x, v_y = beamParameterization(s, t, theta, omega, k)\n",
    "    return sqrt_g * (\n",
    "        (m / 2) * (v_x ** 2 + v_y ** 2) *\n",
    "        distributionFunction1D(v_x, u_x, n, T, m) *\n",
    "        distributionFunction1D(v_y, 0.0, n, T, m)\n",
    "    )\n",
    "\n",
    "def integrateComposite(species: Species, u_alpha, theta, omega_max, k_max, interaction_width):\n",
    "    s_info = info[species]\n",
    "    func = partial(\n",
    "        waveEnergyIntegrant,\n",
    "        theta=theta, omega=omega_max, k=k_max,\n",
    "        u_x=u_alpha if species == Species.ALPHA else 0.0,\n",
    "        n=s_info.number_density,\n",
    "        T=s_info.si_temperature,\n",
    "        m=s_info.si_mass,\n",
    "    )\n",
    "    res, err = integrate.dblquad(func,\n",
    "        a=-(k_max / omega_max) * interaction_width / 2, b=(k_max / omega_max) * interaction_width / 2,\n",
    "        gfun=-np.inf, hfun=np.inf, epsabs=1e-20, epsrel=1e-12\n",
    "    )\n",
    "    return res, err\n",
    "\n",
    "def integrateSeparate(species: Species, u_alpha, theta, omega_max, k_max, interaction_width):\n",
    "    s_info = info[species]\n",
    "    func_energy = partial(\n",
    "        energyIntegrant,\n",
    "        m=s_info.si_mass,\n",
    "        theta=theta,\n",
    "        omega=omega_max,\n",
    "        k=k_max,\n",
    "    )\n",
    "    func_wave = partial(\n",
    "        waveIntegrant,\n",
    "        theta=theta, omega=omega_max, k=k_max,\n",
    "        u_x=u_alpha if species == Species.ALPHA else 0.0,\n",
    "        n=s_info.number_density,\n",
    "        T=s_info.si_temperature,\n",
    "        m=s_info.si_mass,\n",
    "    )\n",
    "    def _integrant(s):\n",
    "        f_e = lambda t: func_energy(s=s, t=t)\n",
    "        f_w = lambda t: func_wave(s=s, t=t)\n",
    "        return (\n",
    "            integrate.quad(f_e,\n",
    "                a=-(k_max / omega_max) * interaction_width / 2,\n",
    "                b=(k_max / omega_max) * interaction_width / 2,\n",
    "                epsabs=1e-20, epsrel=1e-12)[0] *\n",
    "            integrate.quad(f_w,\n",
    "                a=-(k_max / omega_max) * interaction_width / 2,\n",
    "                b=(k_max / omega_max) * interaction_width / 2,\n",
    "                epsabs=1e-20, epsrel=1e-12)[0]\n",
    "        ) / interaction_width\n",
    "\n",
    "    res, err = integrate.quad(_integrant, a=-np.inf, b=np.inf, epsabs=1e-20, epsrel=1e-12)\n",
    "    return res, err\n",
    "\n",
    "# assumption based on the videos, picked at random\n",
    "interaction_width = 2 * info.alpha.v_thermal\n",
    "with h5py.File(\"theory_u_alpha_dispersion.h5\") as f:\n",
    "    u_alpha_arr = f[\"u_alpha_bulk\"][:]\n",
    "    theta_arr = f[\"theta_max\"][:]\n",
    "    k_max_arr = f[\"k_max\"][:]\n",
    "    omega_max_arr = f[\"omega_max\"][:]\n",
    "results = []\n",
    "for u_alpha, theta, k_max, omega_max in zip(u_alpha_arr, theta_arr, k_max_arr, omega_max_arr):\n",
    "    res_c, err = integrateComposite(Species.ALPHA, u_alpha, theta, omega_max, k_max, interaction_width)\n",
    "    res_s, err = integrateSeparate(Species.ALPHA, u_alpha, theta, omega_max, k_max, interaction_width)\n",
    "    results.append(res_c - res_s)"
   ]
  },
  {
   "cell_type": "code",
   "execution_count": null,
   "metadata": {},
   "outputs": [],
   "source": [
    "print(info.c_s)\n",
    "print(info.electron.v_thermal / np.sqrt(2) * np.sqrt(info.electron.si_mass / info.proton.si_mass) * (1 + 3 * info.proton.temperature / info.electron.temperature))"
   ]
  },
  {
   "cell_type": "code",
   "execution_count": null,
   "metadata": {},
   "outputs": [],
   "source": [
    "plt.plot(u_alpha_arr, results / u_alpha_arr ** 2)\n",
    "plt.xlabel(\"Alpha flow velocity $u_\\\\alpha$\")\n",
    "plt.ylabel(\"Integral\")"
   ]
  },
  {
   "cell_type": "code",
   "execution_count": null,
   "metadata": {},
   "outputs": [],
   "source": [
    "# visualization of distribution overlap with interaction region\n",
    "from ipywidgets import interactive\n",
    "import matplotlib.pyplot as plt\n",
    "import numpy as np\n",
    "\n",
    "def interactive_plot(u_alpha):\n",
    "    width = 40\n",
    "    c_s = info.c_s * 1e-3\n",
    "    if u_alpha < c_s:\n",
    "        theta = 0\n",
    "    else:\n",
    "        theta = np.arccos(c_s / u_alpha)\n",
    "\n",
    "    t = np.linspace(0, c_s)\n",
    "    s = np.linspace(-5 * c_s, 5 * c_s)\n",
    "    plt.figure()\n",
    "    # plt.text(0, 0, f\"{u_alpha} {theta}\")\n",
    "    circle = plt.Circle((0,0), radius=c_s, fill=False, ls=\"--\", lw=2)\n",
    "    plt.plot(np.cos(theta) * t, np.sin(theta) * t, ls=\"solid\")\n",
    "    plt.plot(np.cos(theta) * t, -np.sin(theta) * t, ls=\"solid\")\n",
    "    plt.plot(c_s * np.cos(theta) + np.sin(theta) * s, c_s * np.sin(theta) - np.cos(theta) * s)\n",
    "    plt.plot(c_s * np.cos(theta) + np.sin(theta) * s, -c_s * np.sin(theta) + np.cos(theta) * s)\n",
    "    rect_pos = plt.Rectangle(\n",
    "        xy=(\n",
    "            (c_s - width / 2) * np.cos(theta) + np.sin(theta) * (-2 * c_s),\n",
    "            (c_s - width / 2) * np.sin(theta) - np.cos(theta) * (-2 * c_s)\n",
    "        ),\n",
    "        width=1000, height=width, angle=theta * 180 / np.pi+270, alpha=0.4, edgecolor=\"black\"\n",
    "    )\n",
    "    rect_neg = plt.Rectangle(\n",
    "        xy=(\n",
    "            +(c_s + width / 2) * np.cos(theta) + np.sin(theta) * (-2 * c_s),\n",
    "            -(c_s + width / 2) * np.sin(theta) + np.cos(theta) * (-2 * c_s)\n",
    "        ),\n",
    "        width=1000, height=width, angle=-theta * 180 / np.pi+90, alpha=0.4, edgecolor=\"black\"\n",
    "    )\n",
    "    plt.scatter(u_alpha, 0, s=40,zorder=5)\n",
    "    plt.gca().add_patch(circle)\n",
    "    plt.gca().add_patch(rect_pos)\n",
    "    plt.gca().add_patch(rect_neg)\n",
    "    plt.gca().set_aspect(\"equal\")\n",
    "    plt.xlim(-110, u_alpha+width)\n",
    "    plt.ylim(-110, 110)\n",
    "    plt.xlabel(\"Velocity $v_{\\\\alpha,x}$ (km/s)\")\n",
    "    plt.ylabel(\"Velocity $v_{\\\\alpha,y}$ (km/s)\")\n",
    "    plt.show()\n",
    "\n",
    "interactive_plt = interactive(interactive_plot, u_alpha=(100.0, 200.0))\n",
    "interactive_plt"
   ]
  },
  {
   "cell_type": "code",
   "execution_count": 3,
   "metadata": {},
   "outputs": [],
   "source": [
    "plots_1D.illustrateVelocitySpace(info, save=True)\n",
    "plt.show()"
   ]
  },
  {
   "cell_type": "code",
   "execution_count": null,
   "metadata": {},
   "outputs": [],
   "source": [
    "def indicatorRotatedRectangle(x, y, w, h, alpha):\n",
    "    x_prime = x * np.cos(alpha) + y * np.sin(alpha)\n",
    "    y_prime = -x * np.sin(alpha) + y * np.cos(alpha)\n",
    "    return (np.abs(x_prime) <= w / 2) & (np.abs(y_prime) <= h / 2)\n",
    "\n",
    "def distributionFunction(y, x, w, h, alpha):\n",
    "    rect1 = indicatorRotatedRectangle(x, y, w, h, alpha)\n",
    "    rect2 = indicatorRotatedRectangle(x, y, w, h, -alpha)\n",
    "    return rect1 | rect2\n",
    "\n",
    "w = 2\n",
    "h = 1\n",
    "n_samples = int(2e4)\n",
    "temp = []\n",
    "thetas = np.linspace(0, np.pi / 2)\n",
    "alphas = np. pi / 2 - thetas\n",
    "for alpha in alphas:\n",
    "    full = integrate.qmc_quad(\n",
    "        lambda v: distributionFunction(v[0], v[1], w, h, alpha),\n",
    "        [-w, -w], [w, w], n_points=n_samples, n_estimates=2)\n",
    "    norm = full.integral\n",
    "    t_xx = integrate.qmc_quad(\n",
    "        lambda v: v[0] ** 2 * distributionFunction(v[0], v[1], w, h, alpha),\n",
    "        [-w, -w], [w, w], n_points=n_samples, n_estimates=2)\n",
    "    t_yy = integrate.qmc_quad(\n",
    "        lambda v: v[1] ** 2 * distributionFunction(v[0], v[1], w, h, alpha),\n",
    "        [-w, -w], [w, w], n_points=n_samples, n_estimates=2)\n",
    "    temp.append((t_xx, t_yy))\n",
    "temp = np.array(temp)[:,:,0]\n",
    "u_alpha = 65 / np.cos(thetas)\n",
    "T_eff = np.cos(thetas) * np.mean(temp, axis=1)\n",
    "plt.plot(\n",
    "    thetas * 180 / np.pi,\n",
    "    T_eff / np.max(T_eff),\n",
    "    label=\"T\")\n",
    "# plt.plot(\n",
    "#     angles / 2 * 180 / np.pi,\n",
    "#     np.cos(angles / 2)[:,None] * temp,\n",
    "#     label=[\"$T_{xx}$\", \"$T_{yy}$\"])\n",
    "plt.axvline(57)\n",
    "plt.legend()\n",
    "# plt.xlim(0, 1 / np.cos(60 * np.pi / 180))\n",
    "plt.show()"
   ]
  },
  {
   "cell_type": "code",
   "execution_count": null,
   "metadata": {},
   "outputs": [],
   "source": [
    "info.electron.si_charge * 45e-9 / info.electron.si_mass / info.omega_pp"
   ]
  },
  {
   "cell_type": "code",
   "execution_count": null,
   "metadata": {},
   "outputs": [],
   "source": [
    "magnetic_field_strength = 4.346348316425957e-06# 45e-9\n",
    "omega_c_alpha = magnetic_field_strength * info.alpha.si_charge / info.alpha.si_mass\n",
    "omega_c_proton = magnetic_field_strength * info.proton.si_charge / info.proton.si_mass\n",
    "print(f\"B = {magnetic_field_strength * 1e4}\")\n",
    "print(info.omega_pp / omega_c_alpha)\n",
    "print(info.omega_pp / omega_c_proton)\n",
    "print(info.omega_pp / (10 * info.proton.si_charge / info.proton.si_mass))"
   ]
  },
  {
   "cell_type": "markdown",
   "metadata": {},
   "source": [
    "# Simulation 2D"
   ]
  },
  {
   "cell_type": "code",
   "execution_count": null,
   "metadata": {},
   "outputs": [],
   "source": [
    "# plot max-e-field energy\n",
    "# TODO: Change markers & colors, perhaps change the format completely so that there is more space for the different markers (in that case focus on 100 and 140 km/s)\n",
    "plots_2D.magneticFieldDirectionElectricField(info, save=True)\n",
    "plt.show()"
   ]
  },
  {
   "cell_type": "markdown",
   "metadata": {},
   "source": [
    "## Alpha flow-speed variation (B=0)"
   ]
  },
  {
   "cell_type": "code",
   "execution_count": null,
   "metadata": {},
   "outputs": [],
   "source": [
    "# plots_2D.maxEnergyVsAlphaFlowSpeed(info, normalize_energy=False)\n",
    "# plt.show()\n",
    "plots_2D.maxEnergyVsAlphaFlowSpeed(info, normalize_energy=True, save=save)\n",
    "plt.show()"
   ]
  },
  {
   "cell_type": "code",
   "execution_count": null,
   "metadata": {},
   "outputs": [],
   "source": [
    "plots_2D.waveAngleVsAlphaFlowSpeed(info, \"x\", save=True)\n",
    "plt.show()"
   ]
  },
  {
   "cell_type": "code",
   "execution_count": null,
   "metadata": {},
   "outputs": [],
   "source": [
    "with h5py.File(\"theory_u_alpha_dispersion.h5\") as f:\n",
    "    theory_v = f[\"u_alpha_bulk\"][:] / 1e3\n",
    "    theory_omega = f[\"omega_max\"][:] / info.omega_pp\n",
    "    # print(theory_omega)\n",
    "    print(f.keys())\n",
    "    print(f[\"gamma_max\"][:])"
   ]
  },
  {
   "cell_type": "code",
   "execution_count": null,
   "metadata": {},
   "outputs": [],
   "source": [
    "plots_2D.wavenumberVsAlphaFlowSpeed(info, \"x\", save=True)\n",
    "plots_2D.omegaVsAlphaFlowSpeed(info, \"x\", save=True)\n",
    "plt.show()"
   ]
  },
  {
   "cell_type": "code",
   "execution_count": null,
   "metadata": {},
   "outputs": [],
   "source": [
    "plots_2D.psdOmegaForAlphaFlowSpeed(info, \"x\", save=True)\n",
    "plt.show()"
   ]
  },
  {
   "cell_type": "code",
   "execution_count": null,
   "metadata": {},
   "outputs": [],
   "source": [
    "with h5py.File(\"theory_u_alpha_dispersion_v2.h5\") as f:\n",
    "    u_alpha = f[\"u_alpha_bulk\"][:]\n",
    "    gamma = f[\"gamma_max\"][:] / info.omega_pp\n",
    "    theta = f[\"theta_max\"][:] * 180 / np.pi\n",
    "    k = f[\"k_max\"][:] * info.lambda_D\n",
    "    omega = f[\"omega_max\"][:] / info.omega_pp"
   ]
  },
  {
   "cell_type": "code",
   "execution_count": null,
   "metadata": {},
   "outputs": [],
   "source": [
    "# plots_1D.linearTheoryDensityRatio(info, save=False)\n",
    "# plots_1D.linearTheoryFlowVelocity(info, save=False)\n",
    "plots_1D.linearTheoryWaveProperties(info, save=False)\n",
    "plt.show()"
   ]
  },
  {
   "cell_type": "code",
   "execution_count": null,
   "metadata": {},
   "outputs": [],
   "source": [
    "# plot 3D temperature vs time for different magnetic fields.\n",
    "species = Species.PROTON\n",
    "plt.style.use(MPLSTYLE_FILE)\n",
    "plt.figure()\n",
    "\n",
    "leg_u100 = []\n",
    "leg_u140 = []\n",
    "for u_label in [100, 140]:\n",
    "    for folder_id, label in zip([\"\", \"_Bx\", \"_By\", \"_Bz\", \"_Bx_By\"], [\"B=0\", \"B_x>0\", \"B_y>0\", \"B_z>0\", \"B_x=B_y\"]):\n",
    "        for filename in sorted((FOLDER_2D / f\"v_alpha_bulk_variation{folder_id}\").glob(\"*.h5\")):\n",
    "            u = int(filename.stem[-3:])\n",
    "            if u != u_label:\n",
    "                continue\n",
    "            with h5py.File(filename) as f:\n",
    "                time = f[\"Header/time\"][:] * info.omega_pp\n",
    "                temp = np.mean(f[f\"Derived/Temperature/{species.value}\"], axis=(1,2))\n",
    "            line = plt.plot(\n",
    "                time, physics.kelvinToElectronVolt(temp),\n",
    "                # label=f\"(${label}$) $u_\\\\alpha^{{t=0}}$ = {v}\"\n",
    "                label=f\"${label}$\"\n",
    "            )[0]\n",
    "            (leg_u100 if u_label == 100 else leg_u140).append(line)\n",
    "leg1 = plt.legend(handles=leg_u100, loc=\"upper left\", title=\"$u_\\\\alpha^{t=0}$=100 km/s\",ncols=1 if species == Species.ELECTRON else 2, columnspacing=0.5, labelspacing=0.5, fancybox=False, framealpha=0.4)\n",
    "plt.legend(handles=leg_u140, title=\"$u_\\\\alpha^{t=0}$=140 km/s\", loc=\"lower right\", ncols=3 if species == Species.ELECTRON else 2, columnspacing=0.5, labelspacing=0.5, fancybox=False, framealpha=0.4)\n",
    "plt.gca().add_artist(leg1)\n",
    "plt.xlabel(\"Time $t\\\\,\\\\omega_{pp}$ (1)\")\n",
    "plt.ylabel(f\"Temperature $T_{species.symbol()}$ (eV)\")\n",
    "plt.xlim(0, 150.0)\n",
    "y_low = 1.5 if species == Species.PROTON else 5\n",
    "plt.ylim(bottom=2 if species == Species.PROTON else 10 if species == Species.ALPHA else 99.7)\n",
    "plt.tight_layout(pad=0.2)\n",
    "# plt.savefig(f\"figures/svg/simulation-2D/magnetic-field-directions/temperature_{species}-vs-time.svg\", bbox_inches=\"tight\")\n",
    "plt.show()"
   ]
  },
  {
   "cell_type": "code",
   "execution_count": null,
   "metadata": {},
   "outputs": [],
   "source": [
    "for species in Species:\n",
    "    plots_2D.temperature3DOverTimeForAlphaFlowSpeed(\n",
    "        info, species\n",
    "    )"
   ]
  },
  {
   "cell_type": "code",
   "execution_count": null,
   "metadata": {},
   "outputs": [],
   "source": [
    "for species in Species:\n",
    "    plots_2D.temperatureDifferences3DVsAlphaFlowSpeed(info, species, save=False)\n",
    "plt.show()"
   ]
  },
  {
   "cell_type": "code",
   "execution_count": null,
   "metadata": {},
   "outputs": [],
   "source": [
    "for filename in sorted(V_FLOW_VARIATION_FOLDER.glob(\"*.h5\")):\n",
    "    plots_2D.electricField2DSnapshot(filename, info, time=50.0, save=True)\n",
    "    plt.show()\n",
    "    break"
   ]
  },
  {
   "cell_type": "code",
   "execution_count": null,
   "metadata": {},
   "outputs": [],
   "source": [
    "for filename in sorted((FOLDER_2D / \"v_alpha_bulk_variation_By\").glob(\"*.h5\")):\n",
    "    plots_2D.electricField2DSnapshot(filename, info, time=50.0)\n",
    "    plt.show()"
   ]
  },
  {
   "cell_type": "code",
   "execution_count": null,
   "metadata": {},
   "outputs": [],
   "source": [
    "for filename in sorted((FOLDER_2D / \"v_alpha_bulk_variation_Bx_By\").glob(\"*.h5\")):\n",
    "    plots_2D.energyEFieldOverTime(filename, info)\n",
    "    plt.show()"
   ]
  },
  {
   "cell_type": "code",
   "execution_count": null,
   "metadata": {},
   "outputs": [],
   "source": [
    "for filename in sorted(V_FLOW_VARIATION_FOLDER.glob(\"*.h5\")):\n",
    "    # plots_2D.strengthBFieldOverTime(filename, info)\n",
    "    plots_2D.psdBField(filename, info)\n",
    "    plots_2D.energyBField(filename, info)\n",
    "    plt.show()\n",
    "    break"
   ]
  },
  {
   "cell_type": "code",
   "execution_count": null,
   "metadata": {},
   "outputs": [],
   "source": [
    "for species in [Species.ELECTRON]:\n",
    "    plots_2D.psdFlowVelocity(info, species, \"x\", \"x\")\n",
    "    plt.show()"
   ]
  },
  {
   "cell_type": "code",
   "execution_count": null,
   "metadata": {},
   "outputs": [],
   "source": [
    "for species in Species:\n",
    "    plots_2D.flowVelocityVsTime(info, species, \"x\", \"x\")\n",
    "    plt.show()"
   ]
  },
  {
   "cell_type": "code",
   "execution_count": null,
   "metadata": {},
   "outputs": [],
   "source": [
    "for filename in sorted(V_FLOW_VARIATION_FOLDER.glob(\"*.h5\")):\n",
    "    plots_2D.energiesOverTime(filename, info)\n",
    "    plt.show()"
   ]
  },
  {
   "cell_type": "code",
   "execution_count": null,
   "metadata": {},
   "outputs": [],
   "source": [
    "# Kinetic energies in the system\n",
    "for filename in sorted(V_FLOW_VARIATION_FOLDER.glob(\"*.h5\")):\n",
    "    plt.figure()\n",
    "    K_species = []\n",
    "    for species in Species:\n",
    "        u_alpha = int(filename.stem[-3:])\n",
    "        with h5py.File(filename) as f:\n",
    "            time = f[\"Header/time\"][:] * info.omega_pp\n",
    "            x_grid = f[f\"Grid/grid/X\"][:]\n",
    "            y_grid = f[f\"Grid/grid/Y\"][:]\n",
    "            px_grid = f[f\"Grid/px_py/{species.value}/Px\"][:]\n",
    "            py_grid = f[f\"Grid/px_py/{species.value}/Py\"][:]\n",
    "            px_py = f[f'dist_fn/px_py/{species.value}'][:]\n",
    "        # TODO: Wrong\n",
    "        u_x, u_y = analysis.flowVelocity2D(x_grid, y_grid, px_grid, py_grid, px_py, info[species])\n",
    "        K = 0.5 * info[species].si_mass * (u_x ** 2 + u_y ** 2) / constants.electron_volt\n",
    "        K_species.append(info[species].number_density * K)\n",
    "    for K_s, species in zip(K_species, Species):\n",
    "        plt.plot(time, K_s * 1e-6, label=f\"$W_{{{species.symbol()}}}$\")\n",
    "    # plt.plot(time[1:], W_total[1:] * 1e-6, label=\"$W_\\\\text{total}$\")\n",
    "    plt.yscale(\"log\")\n",
    "    plt.xlabel(\"Time $t\\\\,\\\\omega_{pp}$ (1)\")\n",
    "    plt.ylabel(\"Kinetic energy density K (MeV$\\\\,/\\\\,$m$^3$)\")\n",
    "    plt.xlim(0.0, 150.0)\n",
    "    plt.legend(ncols=3, labelspacing=.2, columnspacing=0.5)\n",
    "    plt.show()\n",
    "    break"
   ]
  },
  {
   "cell_type": "code",
   "execution_count": null,
   "metadata": {},
   "outputs": [],
   "source": [
    "species = Species.PROTON\n",
    "files = sorted(V_FLOW_VARIATION_FOLDER.glob(\"*.h5\"))\n",
    "labels = [int(p.stem[-3:]) for p in files]\n",
    "general.momentumDistributionComparison(\n",
    "    info, species, Distribution.X_PX, legend_ncols=2,\n",
    "    files=files, labels=labels, times=150.0, legend_title=f\"Flow velocity $u_\\\\alpha$ (km/s)\")\n",
    "plt.show()"
   ]
  },
  {
   "cell_type": "code",
   "execution_count": null,
   "metadata": {},
   "outputs": [],
   "source": [
    "times = [0.0, 40.0, 50, 60.0, 150.0]\n",
    "species = Species.PROTON\n",
    "for filename in sorted((FOLDER_2D / \"v_alpha_bulk_variation_Bx\").glob(\"*.h5\")):\n",
    "    general.momentumDistributionComparison(info, species, Distribution.Y_PX, filename, times)\n",
    "    break\n",
    "plt.show()"
   ]
  },
  {
   "cell_type": "code",
   "execution_count": null,
   "metadata": {},
   "outputs": [],
   "source": [
    "species = Species.ALPHA\n",
    "dist = Distribution.X_PX\n",
    "for filename in sorted(V_FLOW_VARIATION_FOLDER.glob(\"*.h5\")):\n",
    "    general.spaceMomentumDistributon(info, species, dist, filename, time=50.0)\n",
    "    plt.show()\n",
    "    break"
   ]
  },
  {
   "cell_type": "code",
   "execution_count": null,
   "metadata": {},
   "outputs": [],
   "source": [
    "species = Species.ALPHA\n",
    "time = 60.0\n",
    "for filename in sorted(V_FLOW_VARIATION_FOLDER.glob(\"*.h5\")):\n",
    "    print(filename.stem[-3:])\n",
    "    plots_2D.pxPyDistribution(info, species, filename, time)\n",
    "    plt.show()"
   ]
  },
  {
   "cell_type": "code",
   "execution_count": null,
   "metadata": {},
   "outputs": [],
   "source": [
    "for filename in sorted(V_FLOW_VARIATION_FOLDER.glob(\"*.h5\")):\n",
    "    label = f\"u_alpha={filename.stem[-3:]}\"\n",
    "    plots_2D.videoEFieldOverTime(info, filename, \"x\", label=label, save=True)"
   ]
  },
  {
   "cell_type": "code",
   "execution_count": null,
   "metadata": {},
   "outputs": [],
   "source": [
    "filenames = sorted(V_FLOW_VARIATION_FOLDER.glob(\"*.h5\"))\n",
    "species = Species.PROTON\n",
    "normalized_velocity = True\n",
    "time_steps = range(0, 1500, 20)\n",
    "labels = [int(p.stem[-3:]) for p in filenames]\n",
    "legend_title=f\"Flow velocity $u_\\\\alpha$ (km/s)\"\n",
    "general.videoMomentumDistribution(\n",
    "    info, Distribution.X_PX, species, filenames,\n",
    "    save=False, labels=labels, legend_title=legend_title,\n",
    "    legend_ncols=2)"
   ]
  },
  {
   "cell_type": "code",
   "execution_count": null,
   "metadata": {},
   "outputs": [],
   "source": [
    "for filename in sorted(V_FLOW_VARIATION_FOLDER.glob(\"*.h5\")):\n",
    "    v = f\"u_alpha={filename.stem[-3:]}\"\n",
    "    plots_2D.videoPxPyDistribution(info, species=Species.ALPHA, filename=filename, save=True, label=v)"
   ]
  },
  {
   "cell_type": "code",
   "execution_count": null,
   "metadata": {},
   "outputs": [],
   "source": [
    "filename = RESULTS_FOLDER / \"epoch_2D/v_alpha_bulk_variation/v_alpha_bulk_106.h5\"\n",
    "v_x, v_y, f_v = general._loadPxPyDistribution(info, Species.PROTON, filename, 100, True)\n",
    "f_v[f_v<=0] = np.min(f_v[f_v>0])\n",
    "from scipy import ndimage\n",
    "plt.contourf(np.log(ndimage.gaussian_filter(f_v, sigma=10)))\n",
    "plt.gca().set_aspect(\"equal\")"
   ]
  },
  {
   "cell_type": "markdown",
   "metadata": {},
   "source": [
    "# Simulation 1D"
   ]
  },
  {
   "cell_type": "markdown",
   "metadata": {},
   "source": [
    "## Density variation"
   ]
  },
  {
   "cell_type": "code",
   "execution_count": null,
   "metadata": {},
   "outputs": [],
   "source": [
    "for s in Species:\n",
    "    for filename in sorted(DENSITY_VARIATION_FOLDER.glob(\"density_*.h5\")):\n",
    "        # print(filename)\n",
    "        ratio = 10 ** float(filename.stem.split(\"_\")[-1])\n",
    "        n_electron = 12e6\n",
    "        n_proton = n_electron / (1 + 2 * ratio)\n",
    "        n_alpha = ratio * n_proton\n",
    "        info = RunInfo(\n",
    "            electron=SpeciesInfo(\n",
    "                number_density=12.0e6,\n",
    "                temperature=100.0,\n",
    "                charge=-1,\n",
    "                mass=1.0,\n",
    "                bulk_velocity=0.0\n",
    "            ),\n",
    "            proton=SpeciesInfo(\n",
    "                number_density=n_proton,\n",
    "                temperature=3.0,\n",
    "                charge=+1,\n",
    "                mass=1836.152674,\n",
    "                bulk_velocity=0.0\n",
    "            ),\n",
    "            alpha=SpeciesInfo(\n",
    "                number_density=n_alpha,\n",
    "                temperature=12.0,\n",
    "                charge=+2,\n",
    "                mass=7294.29953,\n",
    "                bulk_velocity=1.0e5\n",
    "            )\n",
    "        )\n",
    "        # print(np.log10(ratio))\n",
    "        # plots_1D.energyEFieldOverTime(\n",
    "        #     filename=filename, info=info\n",
    "        # )\n",
    "\n",
    "        with h5py.File(filename) as f:\n",
    "            time = f[\"Header/time\"][:] * info.omega_pp\n",
    "            energy = f[\"Electric Field/ex\"][:] ** 2\n",
    "            temp = physics.kelvinToElectronVolt(f[f\"Derived/Temperature/{s.value}\"][:])\n",
    "            plt.errorbar(ratio, np.mean(temp[-10:]) - np.mean(temp[:10]), yerr=np.std(temp[:10]) / np.sqrt(10), marker=\"o\", ls=\"\", color=\"black\")\n",
    "    plt.title(s)\n",
    "    plt.xscale(\"log\")\n",
    "    plt.xlabel(\"$n_\\\\alpha/n_\\\\text{p}$\")\n",
    "    plt.ylabel(\"Heating $\\\\Delta T$ (eV)\")\n",
    "    plt.show()\n",
    "#     energy = np.mean(\n",
    "#         energy,\n",
    "#         axis=tuple(range(1, energy.ndim))\n",
    "#     ) * (constants.epsilon_0 / 2) / (constants.electron_volt)\n",
    "#     res = analysis.fitGrowthRate(time, energy)\n",
    "#     plt.plot(ratio, res[0].slope / 2, ls=\"\", marker=\"o\", color=\"black\")\n",
    "# # import theory\n",
    "# plt.plot(np.logspace(-2, 1), theory.growthRate(np.logspace(-2, 1)), ls=\"--\")\n",
    "# plt.xscale(\"log\")\n",
    "\n",
    "plt.show()"
   ]
  },
  {
   "cell_type": "markdown",
   "metadata": {},
   "source": [
    "## Run n=8192"
   ]
  },
  {
   "cell_type": "code",
   "execution_count": null,
   "metadata": {},
   "outputs": [],
   "source": [
    "times = [0.0, 40.0, 150.0]\n",
    "for species, y_bot, x_lim, loc in zip(\n",
    "    Species,\n",
    "    [1e-4, 1e-2, 1e-2],\n",
    "    [(-4, 4), (-4, 10), (-1, 8)],\n",
    "    [(0.22, 0.05), (0.42, 0.67), (0.3, 0.04)]\n",
    "):\n",
    "    # if species == Species.ELECTRON: continue\n",
    "    general.momentumDistributionComparison(\n",
    "        info, species, Distribution.X_PX,\n",
    "        PARTICLE_VARIATION_FOLDER / \"particles_8192/rep_0.h5\",\n",
    "        times, legend_loc=loc, legend_title=\"\",\n",
    "        labels=[f\"$t\\\\,\\\\omega_\\\\text{{pp}}={int(t)}$\" for t in times],\n",
    "        y_lim=(y_bot, 1e3 if species == Species.PROTON else None),\n",
    "        x_lim=x_lim,\n",
    "        x_ticks=[-4,0,4,8] if species == Species.PROTON else None,\n",
    "        save=False,\n",
    "        save_folder=\"simulation-1D\",\n",
    "    )\n",
    "plt.show()"
   ]
  },
  {
   "cell_type": "code",
   "execution_count": null,
   "metadata": {},
   "outputs": [],
   "source": [
    "for species, v_lim, v_ticks in zip(\n",
    "    [Species.PROTON, Species.ALPHA],\n",
    "    [(-4, 10), (-1, 8)],\n",
    "    [np.linspace(-4, 8, 4), np.linspace(0, 8, 3)],\n",
    "):\n",
    "    general.spaceVelocityDistributionMulti(\n",
    "        info, species, Distribution.X_PX,\n",
    "        PARTICLE_VARIATION_FOLDER / \"particles_8192/rep_0.h5\",\n",
    "        times=[0.0, 60.0, 150.0],\n",
    "        v_lim=v_lim,\n",
    "        v_ticks=v_ticks,\n",
    "        save=True,\n",
    "        save_folder=\"simulation-1D\"\n",
    "    )"
   ]
  },
  {
   "cell_type": "code",
   "execution_count": null,
   "metadata": {},
   "outputs": [],
   "source": [
    "plots_1D.electricFieldOverSpaceAndTime(\n",
    "    filename=PARTICLE_VARIATION_FOLDER / \"particles_8192/rep_0.h5\",\n",
    "    info=info, save=True\n",
    ")\n",
    "plt.show()"
   ]
  },
  {
   "cell_type": "code",
   "execution_count": null,
   "metadata": {},
   "outputs": [],
   "source": [
    "for species in Species:\n",
    "    plots_1D.avgTemperatureXOverTime(\n",
    "        filename=PARTICLE_VARIATION_FOLDER / \"particles_8192/rep_0.h5\",\n",
    "        info=info, species=species, save=True\n",
    "    )\n",
    "plt.show()"
   ]
  },
  {
   "cell_type": "code",
   "execution_count": null,
   "metadata": {},
   "outputs": [],
   "source": [
    "plots_1D.velocityDistributionOverTimeCombined(\n",
    "    PARTICLE_VARIATION_FOLDER / \"particles_8192/rep_0.h5\",\n",
    "    info,\n",
    "    times=[0.0, 150.0],\n",
    "    v_lim_arr=[(-4, 4), (-4, 10), (-1, 8)],\n",
    "    v_tick_arr=[[-3,0,3], [-3,0,3,6,9], [0,4,8]],\n",
    "    save=True,\n",
    ")"
   ]
  },
  {
   "cell_type": "code",
   "execution_count": null,
   "metadata": {},
   "outputs": [],
   "source": [
    "plt.rcParams[\"figure.dpi\"] = 200\n",
    "plots_1D.energyEFieldOverTime(\n",
    "    filename=V_FLOW_VARIATION_FOLDER / \"v_alpha_bulk_100.h5\",\n",
    "    info=info, save=False\n",
    ")\n",
    "plt.show()"
   ]
  },
  {
   "cell_type": "markdown",
   "metadata": {},
   "source": [
    "## Particle variation"
   ]
  },
  {
   "cell_type": "code",
   "execution_count": null,
   "metadata": {},
   "outputs": [],
   "source": [
    "plots_1D.particleVariationEnergyVsTime(info=info, save=save)\n",
    "plt.show()"
   ]
  },
  {
   "cell_type": "code",
   "execution_count": null,
   "metadata": {},
   "outputs": [],
   "source": [
    "for species in Species:\n",
    "    plots_1D.particleVariationTemperature3D(species, save=save)\n",
    "plt.show()"
   ]
  },
  {
   "cell_type": "code",
   "execution_count": null,
   "metadata": {},
   "outputs": [],
   "source": [
    "for species in Species:\n",
    "    plots_1D.particleVariationTemperatureXDiff(info, species, save=save)\n",
    "plt.show()"
   ]
  },
  {
   "cell_type": "code",
   "execution_count": null,
   "metadata": {},
   "outputs": [],
   "source": [
    "for species in Species:\n",
    "    plots_1D.particleVariationTemperatureXVsTime(info, species, save=save)\n",
    "plt.show()"
   ]
  },
  {
   "cell_type": "code",
   "execution_count": null,
   "metadata": {},
   "outputs": [],
   "source": [
    "plots_1D.particleVariationGrowthRate(info, save=save)\n",
    "plt.show()"
   ]
  },
  {
   "cell_type": "code",
   "execution_count": null,
   "metadata": {},
   "outputs": [],
   "source": [
    "plots_1D.particleVariationWavenumber(info=info, save=save)\n",
    "plt.show()"
   ]
  },
  {
   "cell_type": "code",
   "execution_count": null,
   "metadata": {},
   "outputs": [],
   "source": [
    "plots_1D.particleVariationFrequency(info=info, save=save)\n",
    "plt.show()"
   ]
  }
 ],
 "metadata": {
  "kernelspec": {
   "display_name": "analysis",
   "language": "python",
   "name": "python3"
  },
  "language_info": {
   "codemirror_mode": {
    "name": "ipython",
    "version": 3
   },
   "file_extension": ".py",
   "mimetype": "text/x-python",
   "name": "python",
   "nbconvert_exporter": "python",
   "pygments_lexer": "ipython3",
   "version": "3.13.2"
  }
 },
 "nbformat": 4,
 "nbformat_minor": 2
}
