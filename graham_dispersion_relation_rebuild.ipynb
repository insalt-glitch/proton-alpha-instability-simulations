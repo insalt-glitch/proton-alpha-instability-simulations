{
 "cells": [
  {
   "cell_type": "code",
   "execution_count": 7,
   "metadata": {},
   "outputs": [],
   "source": [
    "from scipy import optimize, constants, special\n",
    "import numpy as np"
   ]
  },
  {
   "cell_type": "code",
   "execution_count": null,
   "metadata": {},
   "outputs": [],
   "source": [
    "ne = 12e6\n",
    "Te = 100\n",
    "Ta = 12\n",
    "Tp = 3\n",
    "Vab = 100e3\n",
    "\n",
    "ma = 4.0 * constants.proton_mass\n",
    "mp = constants.proton_mass\n",
    "me = constants.electron_mass\n",
    "\n",
    "ve = np.sqrt(2 * constants.elementary_charge * Te / me)\n",
    "va = np.sqrt(2 * constants.elementary_charge * Ta / ma)\n",
    "vp = np.sqrt(2 * constants.elementary_charge * Tp / mp)\n",
    "\n",
    "cs = ve / np.sqrt(2) * np.sqrt(me / mp) * (1 + 3 * Tp / Te)\n",
    "\n",
    "wpe = np.sqrt(ne * constants.elementary_charge ** 2 / (me * constants.epsilon_0))\n",
    "ld =  ve / (wpe * np.sqrt(2))\n",
    "\n",
    "kvecld = np.arange(0.01, 1.5, 0.001)\n",
    "kvec = kvecld / ld\n",
    "\n",
    "wr1         = np.zeros_like(kvec)\n",
    "wi1         = np.zeros_like(kvec)\n",
    "dispreltemp = np.zeros_like(kvec)\n",
    "\n",
    "nanprat = 10 ** np.arange(-3, 1, 0.05)\n",
    "\n",
    "gammamax = np.zeros_like(nanprat)\n",
    "kmax     = np.zeros_like(nanprat)\n",
    "wmax     = np.zeros_like(nanprat)\n",
    "wpparr   = np.zeros_like(nanprat)\n",
    "wpaarr   = np.zeros_like(nanprat)\n",
    "naarr    = np.zeros_like(nanprat)\n",
    "nparr    = np.zeros_like(nanprat)"
   ]
  },
  {
   "cell_type": "code",
   "execution_count": null,
   "metadata": {},
   "outputs": [
    {
     "name": "stderr",
     "output_type": "stream",
     "text": [
      "/tmp/ipykernel_1043023/3073031687.py:36: RuntimeWarning: The iteration is not making good progress, as measured by the \n",
      " improvement from the last ten iterations.\n",
      "  x = optimize.fsolve(disprel, x0=[np.real(guessw1), np.imag(guessw1)], xtol=1e-12)\n",
      "/tmp/ipykernel_1043023/3073031687.py:36: RuntimeWarning: The iteration is not making good progress, as measured by the \n",
      " improvement from the last five Jacobian evaluations.\n",
      "  x = optimize.fsolve(disprel, x0=[np.real(guessw1), np.imag(guessw1)], xtol=1e-12)\n",
      "/tmp/ipykernel_1043023/3073031687.py:20: RuntimeWarning: invalid value encountered in scalar multiply\n",
      "  (1 + 1j * np.sqrt(np.pi) * xip(omega) * special.wofz(xip(omega))) + \\\n",
      "/tmp/ipykernel_1043023/3073031687.py:19: RuntimeWarning: invalid value encountered in scalar multiply\n",
      "  result = 1 + 2 * wpp ** 2 / (kvec[k_idx] ** 2 * vp ** 2) * \\\n",
      "/tmp/ipykernel_1043023/3073031687.py:21: RuntimeWarning: invalid value encountered in scalar multiply\n",
      "  + 2 * wpe ** 2 / (kvec[k_idx] ** 2 * ve ** 2) * (1 + 1j * np.sqrt(np.pi) * xie(omega) * special.wofz(xie(omega))) + \\\n",
      "/tmp/ipykernel_1043023/3073031687.py:22: RuntimeWarning: invalid value encountered in scalar multiply\n",
      "  + 2 * wpa ** 2 / (kvec[k_idx] ** 2 * va ** 2) * (1 + 1j * np.sqrt(np.pi) * xia(omega) * special.wofz(xia(omega)))\n",
      "/tmp/ipykernel_1043023/3073031687.py:21: RuntimeWarning: overflow encountered in scalar multiply\n",
      "  + 2 * wpe ** 2 / (kvec[k_idx] ** 2 * ve ** 2) * (1 + 1j * np.sqrt(np.pi) * xie(omega) * special.wofz(xie(omega))) + \\\n",
      "/tmp/ipykernel_1043023/3073031687.py:20: RuntimeWarning: overflow encountered in scalar multiply\n",
      "  (1 + 1j * np.sqrt(np.pi) * xip(omega) * special.wofz(xip(omega))) + \\\n"
     ]
    }
   ],
   "source": [
    "for ratio_idx in range(len(nanprat)):\n",
    "    # Define function\n",
    "    n_p = 12e6 / (2 * nanprat[ratio_idx] + 1)\n",
    "    n_a = (12e6 - n_p) / 2\n",
    "    wpa = np.sqrt(n_a * 2 ** 2 * constants.elementary_charge ** 2 / (ma * constants.epsilon_0))\n",
    "    wpp = np.sqrt(n_p * constants.elementary_charge ** 2 / (mp * constants.epsilon_0))\n",
    "    wpparr[ratio_idx] = wpp\n",
    "    wpaarr[ratio_idx] = wpa\n",
    "    nparr[ratio_idx] = n_p\n",
    "    naarr[ratio_idx] = n_a\n",
    "\n",
    "    for k_idx in range(len(kvec)):\n",
    "        xip = lambda omega : omega / (kvec[k_idx] * vp)\n",
    "        xie = lambda omega: omega / (kvec[k_idx] * ve)\n",
    "        xia = lambda omega: (omega - kvec[k_idx] * Vab) / (kvec[k_idx] * va)\n",
    "\n",
    "        def disprel(omega):\n",
    "            omega = omega[0] + 1j * omega[1]\n",
    "            result = 1 + 2 * wpp ** 2 / (kvec[k_idx] ** 2 * vp ** 2) * \\\n",
    "                (1 + 1j * np.sqrt(np.pi) * xip(omega) * special.wofz(xip(omega))) + \\\n",
    "                + 2 * wpe ** 2 / (kvec[k_idx] ** 2 * ve ** 2) * (1 + 1j * np.sqrt(np.pi) * xie(omega) * special.wofz(xie(omega))) + \\\n",
    "                + 2 * wpa ** 2 / (kvec[k_idx] ** 2 * va ** 2) * (1 + 1j * np.sqrt(np.pi) * xia(omega) * special.wofz(xia(omega)))\n",
    "            return [np.real(result), np.imag(result)]\n",
    "\n",
    "        if ratio_idx < 2:\n",
    "            if k_idx < 5:\n",
    "                guessw1 = cs * kvec[k_idx] / 5\n",
    "            else:\n",
    "                guessw1 = wr1[k_idx-1] + 1j * wi1[k_idx-1]\n",
    "        else:\n",
    "            if k_idx < 5:\n",
    "                guessw1 = dispreltemp[k_idx]\n",
    "            else:\n",
    "                guessw1 = wr1[k_idx-1] + 1j * wi1[k_idx-1]\n",
    "\n",
    "        x = optimize.fsolve(disprel, x0=[np.real(guessw1), np.imag(guessw1)], xtol=1e-12)\n",
    "\n",
    "        # [~,maxpos] = max(x);\n",
    "        wr1[k_idx] = x[0]\n",
    "        wi1[k_idx] = x[1]\n",
    "\n",
    "    dispreltemp = wr1 + 1j * wi1\n",
    "\n",
    "    wmaxtemp = np.max(wi1)\n",
    "    idxgam = np.argmax(wi1)\n",
    "    if wmaxtemp < 0:\n",
    "        gammamax[ratio_idx] = np.nan\n",
    "        kmax[ratio_idx] = np.nan\n",
    "        wmax[ratio_idx] = np.nan\n",
    "    else:\n",
    "        gammamax[ratio_idx] = wi1[idxgam]\n",
    "        kmax[ratio_idx] = kvec[idxgam]\n",
    "        wmax[ratio_idx] = wr1[idxgam]"
   ]
  },
  {
   "cell_type": "code",
   "execution_count": 19,
   "metadata": {},
   "outputs": [
    {
     "data": {
      "image/png": "[encoded data removed]",
      "text/plain": [
       "<Figure size 640x480 with 1 Axes>"
      ]
     },
     "metadata": {},
     "output_type": "display_data"
    }
   ],
   "source": [
    "import matplotlib.pyplot as plt\n",
    "plt.plot(nanprat, np.abs(wmax /wpparr))\n",
    "# plt.plot(nanprat, np.abs(kmax*ld))\n",
    "plt.plot(nanprat, np.abs(gammamax / wpparr))\n",
    "plt.xscale(\"log\")\n",
    "plt.show()\n",
    "# semilogx(nanprat,gammamax./wpparr,nanprat,wmax./wpparr,nanprat,kmax*ld,'linewidth',2)"
   ]
  }
 ],
 "metadata": {
  "kernelspec": {
   "display_name": "analysis",
   "language": "python",
   "name": "python3"
  },
  "language_info": {
   "codemirror_mode": {
    "name": "ipython",
    "version": 3
   },
   "file_extension": ".py",
   "mimetype": "text/x-python",
   "name": "python",
   "nbconvert_exporter": "python",
   "pygments_lexer": "ipython3",
   "version": "3.12.8"
  }
 },
 "nbformat": 4,
 "nbformat_minor": 2
}
